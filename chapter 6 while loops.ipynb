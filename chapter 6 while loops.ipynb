{
 "cells": [
  {
   "cell_type": "markdown",
   "metadata": {},
   "source": [
    "# chapter 6 while loops"
   ]
  },
  {
   "cell_type": "markdown",
   "metadata": {},
   "source": [
    "### 1. "
   ]
  },
  {
   "cell_type": "code",
   "execution_count": 2,
   "metadata": {},
   "outputs": [
    {
     "name": "stdout",
     "output_type": "stream",
     "text": [
      "Roll: 2\n",
      "Roll: 5\n",
      "Roll: 5\n",
      "Roll: 2\n",
      "Roll: 3\n",
      "Roll: 5\n",
      "Turn total: 22\n"
     ]
    }
   ],
   "source": [
    "import random as rd\n",
    "import math\n",
    "\n",
    "score = 0 \n",
    "rd.seed(3)\n",
    "\n",
    "while score < 20:\n",
    "    die = rd.randint(1, 6)\n",
    "    print(f\"Roll: {die}\")\n",
    "    if die == 1:\n",
    "        score = 0\n",
    "        break \n",
    "    else: \n",
    "        score += die\n",
    "print(f\"Turn total: {score}\")"
   ]
  },
  {
   "cell_type": "markdown",
   "metadata": {},
   "source": [
    "### 2. "
   ]
  },
  {
   "cell_type": "code",
   "execution_count": 2,
   "metadata": {},
   "outputs": [
    {
     "name": "stdout",
     "output_type": "stream",
     "text": [
      "Score? 90\n",
      "Roll: 2\n",
      "Roll: 5\n",
      "Roll: 5\n",
      "Turn total: 12 \n",
      "New Score: 102\n"
     ]
    }
   ],
   "source": [
    "import random as rd\n",
    "rd.seed(3)\n",
    "\n",
    "score = int(input(\"Score? \"))\n",
    "turntotal = 0\n",
    "newscore = 0\n",
    "\n",
    "while turntotal < 20 and score + turntotal < 100:\n",
    "    die = rd.randint(1, 6)\n",
    "    print(f\"Roll: {die}\")\n",
    "    if die == 1:\n",
    "        turntotal = 0\n",
    "        break \n",
    "    else: \n",
    "        turntotal += die\n",
    "print(f\"Turn total: {turntotal} \\nNew Score: {score + turntotal}\")"
   ]
  },
  {
   "cell_type": "markdown",
   "metadata": {},
   "source": [
    "### 3."
   ]
  },
  {
   "cell_type": "code",
   "execution_count": 7,
   "metadata": {},
   "outputs": [
    {
     "name": "stdout",
     "output_type": "stream",
     "text": [
      "Roll: 4\n",
      "Roll: 4\n",
      "Roll: 1\n",
      "Turn total: 0 \n",
      "New Score: 0\n",
      "Roll: 3\n",
      "Roll: 5\n",
      "Roll: 4\n",
      "Roll: 4\n",
      "Roll: 3\n",
      "Roll: 4\n",
      "Turn total: 23 \n",
      "New Score: 23\n",
      "Roll: 3\n",
      "Roll: 5\n",
      "Roll: 2\n",
      "Roll: 5\n",
      "Roll: 2\n",
      "Roll: 3\n",
      "Turn total: 20 \n",
      "New Score: 43\n",
      "Roll: 2\n",
      "Roll: 1\n",
      "Turn total: 0 \n",
      "New Score: 43\n",
      "Roll: 5\n",
      "Roll: 3\n",
      "Roll: 5\n",
      "Roll: 6\n",
      "Roll: 5\n",
      "Turn total: 24 \n",
      "New Score: 67\n",
      "Roll: 2\n",
      "Roll: 3\n",
      "Roll: 1\n",
      "Turn total: 0 \n",
      "New Score: 67\n",
      "Roll: 6\n",
      "Roll: 1\n",
      "Turn total: 0 \n",
      "New Score: 67\n",
      "Roll: 6\n",
      "Roll: 3\n",
      "Roll: 4\n",
      "Roll: 5\n",
      "Roll: 1\n",
      "Turn total: 0 \n",
      "New Score: 67\n",
      "Roll: 3\n",
      "Roll: 4\n",
      "Roll: 3\n",
      "Roll: 5\n",
      "Roll: 6\n",
      "Turn total: 21 \n",
      "New Score: 88\n",
      "Roll: 2\n",
      "Roll: 5\n",
      "Roll: 4\n",
      "Roll: 4\n",
      "Turn total: 15 \n",
      "New Score: 103\n"
     ]
    }
   ],
   "source": [
    "import random as rd\n",
    "\n",
    "rd.seed(0)\n",
    "\n",
    "score = 0\n",
    "\n",
    "while score < 100:\n",
    "    turntotal = 0\n",
    "    while turntotal < 20 and score + turntotal < 100:\n",
    "        die = rd.randint(1, 6)\n",
    "        print(f\"Roll: {die}\")\n",
    "        if die == 1:\n",
    "            turntotal = 0\n",
    "            break\n",
    "        else: \n",
    "            turntotal += die\n",
    "    score += turntotal\n",
    "    print(f\"Turn total: {turntotal} \\nNew Score: {score}\")"
   ]
  },
  {
   "cell_type": "markdown",
   "metadata": {},
   "source": [
    "### 4. "
   ]
  },
  {
   "cell_type": "code",
   "execution_count": 9,
   "metadata": {},
   "outputs": [
    {
     "name": "stdout",
     "output_type": "stream",
     "text": [
      "Games? 2000\n",
      "12.699\n"
     ]
    }
   ],
   "source": [
    "import random as rd\n",
    "rd.seed(0)\n",
    "games = int(input(\"Games? \"))\n",
    "\n",
    "totalnumberofturns = 0\n",
    "\n",
    "timesrun = 0\n",
    "while timesrun < games:\n",
    "    numberofturns = 0\n",
    "    score = 0 \n",
    "    while score < 100:\n",
    "        numberofturns += 1\n",
    "        turntotal = 0\n",
    "        while turntotal < 20 and score + turntotal < 100:\n",
    "            die = rd.randint(1, 6)\n",
    "            if die == 1:\n",
    "                turntotal = 0\n",
    "                break\n",
    "            else: \n",
    "                turntotal += die\n",
    "        score += turntotal\n",
    "    totalnumberofturns += numberofturns\n",
    "    timesrun += 1\n",
    "avgturns = totalnumberofturns/games\n",
    "print(avgturns)"
   ]
  },
  {
   "cell_type": "markdown",
   "metadata": {},
   "source": [
    "### 5. "
   ]
  },
  {
   "cell_type": "code",
   "execution_count": 6,
   "metadata": {},
   "outputs": [
    {
     "name": "stdout",
     "output_type": "stream",
     "text": [
      "It is Player 1's Turn.\n",
      "Roll: 4\n",
      "Roll: 4\n",
      "Roll: 1\n",
      "Turn total: 0 \n",
      "New Score: 0\n",
      "Player 1's score: 0\n",
      "Player 2's score: 0\n",
      "It is Player 2's Turn.\n",
      "Roll: 3\n",
      "Roll: 5\n",
      "Roll: 4\n",
      "Roll: 4\n",
      "Roll: 3\n",
      "Roll: 4\n",
      "Turn total: 23 \n",
      "New Score: 23\n",
      "Player 1's score: 0\n",
      "Player 2's score: 23\n",
      "It is Player 1's Turn.\n",
      "Roll: 3\n",
      "Roll: 5\n",
      "Roll: 2\n",
      "Roll: 5\n",
      "Roll: 2\n",
      "Roll: 3\n",
      "Turn total: 20 \n",
      "New Score: 20\n",
      "Player 1's score: 20\n",
      "Player 2's score: 23\n",
      "It is Player 2's Turn.\n",
      "Roll: 2\n",
      "Roll: 1\n",
      "Turn total: 0 \n",
      "New Score: 23\n",
      "Player 1's score: 20\n",
      "Player 2's score: 23\n",
      "It is Player 1's Turn.\n",
      "Roll: 5\n",
      "Roll: 3\n",
      "Roll: 5\n",
      "Roll: 6\n",
      "Roll: 5\n",
      "Turn total: 24 \n",
      "New Score: 44\n",
      "Player 1's score: 44\n",
      "Player 2's score: 23\n",
      "It is Player 2's Turn.\n",
      "Roll: 2\n",
      "Roll: 3\n",
      "Roll: 1\n",
      "Turn total: 0 \n",
      "New Score: 23\n",
      "Player 1's score: 44\n",
      "Player 2's score: 23\n",
      "It is Player 1's Turn.\n",
      "Roll: 6\n",
      "Roll: 1\n",
      "Turn total: 0 \n",
      "New Score: 44\n",
      "Player 1's score: 44\n",
      "Player 2's score: 23\n",
      "It is Player 2's Turn.\n",
      "Roll: 6\n",
      "Roll: 3\n",
      "Roll: 4\n",
      "Roll: 5\n",
      "Roll: 1\n",
      "Turn total: 0 \n",
      "New Score: 23\n",
      "Player 1's score: 44\n",
      "Player 2's score: 23\n",
      "It is Player 1's Turn.\n",
      "Roll: 3\n",
      "Roll: 4\n",
      "Roll: 3\n",
      "Roll: 5\n",
      "Roll: 6\n",
      "Turn total: 21 \n",
      "New Score: 65\n",
      "Player 1's score: 65\n",
      "Player 2's score: 23\n",
      "It is Player 2's Turn.\n",
      "Roll: 2\n",
      "Roll: 5\n",
      "Roll: 4\n",
      "Roll: 4\n",
      "Roll: 5\n",
      "Turn total: 20 \n",
      "New Score: 43\n",
      "Player 1's score: 65\n",
      "Player 2's score: 43\n",
      "It is Player 1's Turn.\n",
      "Roll: 3\n",
      "Roll: 1\n",
      "Turn total: 0 \n",
      "New Score: 65\n",
      "Player 1's score: 65\n",
      "Player 2's score: 43\n",
      "It is Player 2's Turn.\n",
      "Roll: 5\n",
      "Roll: 1\n",
      "Turn total: 0 \n",
      "New Score: 43\n",
      "Player 1's score: 65\n",
      "Player 2's score: 43\n",
      "It is Player 1's Turn.\n",
      "Roll: 1\n",
      "Turn total: 0 \n",
      "New Score: 65\n",
      "Player 1's score: 65\n",
      "Player 2's score: 43\n",
      "It is Player 2's Turn.\n",
      "Roll: 6\n",
      "Roll: 4\n",
      "Roll: 6\n",
      "Roll: 6\n",
      "Turn total: 22 \n",
      "New Score: 65\n",
      "Player 1's score: 65\n",
      "Player 2's score: 65\n",
      "It is Player 1's Turn.\n",
      "Roll: 6\n",
      "Roll: 1\n",
      "Turn total: 0 \n",
      "New Score: 65\n",
      "Player 1's score: 65\n",
      "Player 2's score: 65\n",
      "It is Player 2's Turn.\n",
      "Roll: 5\n",
      "Roll: 4\n",
      "Roll: 3\n",
      "Roll: 2\n",
      "Roll: 6\n",
      "Turn total: 20 \n",
      "New Score: 85\n",
      "Player 1's score: 65\n",
      "Player 2's score: 85\n",
      "It is Player 1's Turn.\n",
      "Roll: 3\n",
      "Roll: 6\n",
      "Roll: 1\n",
      "Turn total: 0 \n",
      "New Score: 65\n",
      "Player 1's score: 65\n",
      "Player 2's score: 85\n",
      "It is Player 2's Turn.\n",
      "Roll: 2\n",
      "Roll: 5\n",
      "Roll: 2\n",
      "Roll: 2\n",
      "Roll: 2\n",
      "Roll: 5\n",
      "Turn total: 18 \n",
      "New Score: 103\n",
      "Player 1's score: 65\n",
      "Player 2's score: 103\n",
      "Player 2 wins!\n"
     ]
    }
   ],
   "source": [
    "import random as rd\n",
    "\n",
    "rd.seed(0)\n",
    "\n",
    "currentplayer = 1\n",
    "score1 = 0\n",
    "score2 = 0\n",
    "while score1 < 100 and score2 < 100:\n",
    "    print(f\"It is Player {currentplayer}'s Turn.\")\n",
    "    turntotal = 0\n",
    "    while turntotal < 20 and score1 + turntotal < 100 and score2 + turntotal < 100:\n",
    "        die = rd.randint(1, 6)\n",
    "        print(f\"Roll: {die}\")\n",
    "        if die == 1:\n",
    "            turntotal = 0\n",
    "            break\n",
    "        else: \n",
    "            turntotal += die\n",
    "    if currentplayer == 1: \n",
    "        score1 += turntotal\n",
    "        print(f\"Turn total: {turntotal} \\nNew Score: {score1}\")\n",
    "    else: \n",
    "        score2 += turntotal\n",
    "        print(f\"Turn total: {turntotal} \\nNew Score: {score2}\")\n",
    "    currentplayer = 3 - currentplayer\n",
    "    print(f\"Player 1's score: {score1}\")\n",
    "    print(f\"Player 2's score: {score2}\")\n",
    "print(f\"Player {3 - currentplayer} wins!\")  \n",
    "\n",
    "# Peter did this in a simpler way – see his solutions"
   ]
  },
  {
   "cell_type": "markdown",
   "metadata": {},
   "source": [
    "### 6."
   ]
  },
  {
   "cell_type": "code",
   "execution_count": 1,
   "metadata": {},
   "outputs": [
    {
     "name": "stdout",
     "output_type": "stream",
     "text": [
      "Games? 10000\n",
      "Probability that Player 1 wins: 0.5283\n"
     ]
    }
   ],
   "source": [
    "import random as rd\n",
    "rd.seed(0)\n",
    "\n",
    "games = int(input(\"Games? \"))\n",
    "\n",
    "timesrun = 0\n",
    "totalwinners = 0\n",
    "while timesrun < games:\n",
    "    timesrun += 1\n",
    "    currentplayer = 1\n",
    "    score1 = 0\n",
    "    score2 = 0\n",
    "    while score1 < 100 and score2 < 100:\n",
    "        turntotal = 0\n",
    "        while turntotal < 20 and score1 + turntotal < 100 and score2 + turntotal < 100:\n",
    "            die = rd.randint(1, 6)\n",
    "            if die == 1:\n",
    "                turntotal = 0\n",
    "                break\n",
    "            else: \n",
    "                turntotal += die\n",
    "        if currentplayer == 1: \n",
    "            score1 += turntotal\n",
    "        else: \n",
    "            score2 += turntotal\n",
    "        currentplayer = 3 - currentplayer\n",
    "        winner = 3 - currentplayer\n",
    "    totalwinners += winner \n",
    "prob1 = 2 - (totalwinners/games)\n",
    "print(f\"Probability that Player 1 wins: {prob1}\")"
   ]
  },
  {
   "cell_type": "markdown",
   "metadata": {},
   "source": [
    "### 7. "
   ]
  },
  {
   "cell_type": "code",
   "execution_count": 2,
   "metadata": {},
   "outputs": [
    {
     "name": "stdout",
     "output_type": "stream",
     "text": [
      "Integer a? 504\n",
      "Integer b? 2226\n",
      "The greatest common denominator of a and b: 42\n"
     ]
    }
   ],
   "source": [
    "a = int(input(\"Integer a? \"))\n",
    "b = int(input(\"Integer b? \"))\n",
    "\n",
    "while b!=0:\n",
    "    aprime = b\n",
    "    bprime = a % b\n",
    "    a = aprime\n",
    "    b = bprime\n",
    "print(f\"The greatest common denominator of a and b: {a}\")"
   ]
  },
  {
   "cell_type": "markdown",
   "metadata": {},
   "source": [
    "### 8. "
   ]
  },
  {
   "cell_type": "code",
   "execution_count": 2,
   "metadata": {},
   "outputs": [
    {
     "name": "stdout",
     "output_type": "stream",
     "text": [
      "Enter an integer: 6\n",
      "6\n"
     ]
    }
   ],
   "source": [
    "i = int(input(\"Enter an integer: \"))\n",
    "firsttime = True\n",
    "\n",
    "while i < 3 or firsttime:\n",
    "    print(i)\n",
    "    firsttime = False\n",
    "    i += 1"
   ]
  },
  {
   "cell_type": "code",
   "execution_count": null,
   "metadata": {},
   "outputs": [],
   "source": []
  }
 ],
 "metadata": {
  "kernelspec": {
   "display_name": "Python 3",
   "language": "python",
   "name": "python3"
  },
  "language_info": {
   "codemirror_mode": {
    "name": "ipython",
    "version": 3
   },
   "file_extension": ".py",
   "mimetype": "text/x-python",
   "name": "python",
   "nbconvert_exporter": "python",
   "pygments_lexer": "ipython3",
   "version": "3.7.7"
  }
 },
 "nbformat": 4,
 "nbformat_minor": 4
}
