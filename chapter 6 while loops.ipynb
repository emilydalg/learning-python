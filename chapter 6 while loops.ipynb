{
 "cells": [
  {
   "cell_type": "markdown",
   "metadata": {},
   "source": [
    "# chapter 6 while loops"
   ]
  },
  {
   "cell_type": "markdown",
   "metadata": {},
   "source": [
    "### 1. "
   ]
  },
  {
   "cell_type": "code",
   "execution_count": 17,
   "metadata": {},
   "outputs": [
    {
     "name": "stdout",
     "output_type": "stream",
     "text": [
      "Roll: 4\n",
      "Roll: 4\n",
      "Roll: 1\n",
      "Turn total: 0\n"
     ]
    }
   ],
   "source": [
    "import random as rd\n",
    "import math\n",
    "\n",
    "score = 0 \n",
    "rd.seed(0)\n",
    "\n",
    "while die != 1 and score < 20:\n",
    "    die = rd.randint(1, 6)\n",
    "    print(f\"Roll: {die}\")\n",
    "    if die == 1:\n",
    "        score = 0 \n",
    "    else: \n",
    "        score += die\n",
    "print(f\"Turn total: {score}\")"
   ]
  },
  {
   "cell_type": "markdown",
   "metadata": {},
   "source": [
    "### 2. "
   ]
  },
  {
   "cell_type": "code",
   "execution_count": 16,
   "metadata": {},
   "outputs": [
    {
     "name": "stdout",
     "output_type": "stream",
     "text": [
      "Score? 90\n",
      "Roll: 2\n",
      "Roll: 5\n",
      "Roll: 5\n",
      "Turn total: 12 \n",
      "New Score: 102\n"
     ]
    }
   ],
   "source": [
    "import random as rd\n",
    "rd.seed(3)\n",
    "\n",
    "score = int(input(\"Score? \"))\n",
    "turntotal = 0\n",
    "newscore = 0\n",
    "die = 0\n",
    "while die != 1 and turntotal < 20 and score + turntotal < 100:\n",
    "    die = rd.randint(1, 6)\n",
    "    print(f\"Roll: {die}\")\n",
    "    if die == 1:\n",
    "        turntotal = 0\n",
    "    else: \n",
    "        turntotal += die\n",
    "print(f\"Turn total: {turntotal} \\nNew Score: {score + turntotal}\")"
   ]
  },
  {
   "cell_type": "markdown",
   "metadata": {},
   "source": [
    "### 3."
   ]
  },
  {
   "cell_type": "code",
   "execution_count": 6,
   "metadata": {},
   "outputs": [
    {
     "name": "stdout",
     "output_type": "stream",
     "text": [
      "Roll: 4\n",
      "Roll: 4\n",
      "Roll: 1\n",
      "Turn total: 0 \n",
      "New Score: 0\n",
      "Roll: 3\n",
      "Roll: 5\n",
      "Roll: 4\n",
      "Roll: 4\n",
      "Roll: 3\n",
      "Roll: 4\n",
      "Turn total: 23 \n",
      "New Score: 23\n",
      "Roll: 3\n",
      "Roll: 5\n",
      "Roll: 2\n",
      "Roll: 5\n",
      "Roll: 2\n",
      "Roll: 3\n",
      "Turn total: 20 \n",
      "New Score: 43\n",
      "Roll: 2\n",
      "Roll: 1\n",
      "Turn total: 0 \n",
      "New Score: 43\n",
      "Roll: 5\n",
      "Roll: 3\n",
      "Roll: 5\n",
      "Roll: 6\n",
      "Roll: 5\n",
      "Turn total: 24 \n",
      "New Score: 67\n",
      "Roll: 2\n",
      "Roll: 3\n",
      "Roll: 1\n",
      "Turn total: 0 \n",
      "New Score: 67\n",
      "Roll: 6\n",
      "Roll: 1\n",
      "Turn total: 0 \n",
      "New Score: 67\n",
      "Roll: 6\n",
      "Roll: 3\n",
      "Roll: 4\n",
      "Roll: 5\n",
      "Roll: 1\n",
      "Turn total: 0 \n",
      "New Score: 67\n",
      "Roll: 3\n",
      "Roll: 4\n",
      "Roll: 3\n",
      "Roll: 5\n",
      "Roll: 6\n",
      "Turn total: 21 \n",
      "New Score: 88\n",
      "Roll: 2\n",
      "Roll: 5\n",
      "Roll: 4\n",
      "Roll: 4\n",
      "Turn total: 15 \n",
      "New Score: 103\n"
     ]
    }
   ],
   "source": [
    "import random as rd\n",
    "\n",
    "rd.seed(0)\n",
    "\n",
    "score = 0\n",
    "\n",
    "while score < 100:\n",
    "    turntotal = 0\n",
    "    die = 0\n",
    "    while die != 1 and turntotal < 20 and score + turntotal < 100:\n",
    "        die = rd.randint(1, 6)\n",
    "        print(f\"Roll: {die}\")\n",
    "        if die == 1:\n",
    "            turntotal = 0\n",
    "            break\n",
    "        else: \n",
    "            turntotal += die\n",
    "    score += turntotal\n",
    "    print(f\"Turn total: {turntotal} \\nNew Score: {score}\")"
   ]
  },
  {
   "cell_type": "markdown",
   "metadata": {},
   "source": [
    "### 4. "
   ]
  },
  {
   "cell_type": "code",
   "execution_count": 14,
   "metadata": {},
   "outputs": [
    {
     "name": "stdout",
     "output_type": "stream",
     "text": [
      "Games? 1000\n",
      "12.631\n"
     ]
    }
   ],
   "source": [
    "import random as rd\n",
    "rd.seed(1)\n",
    "games = int(input(\"Games? \"))\n",
    "\n",
    "totalnumberofturns = 0\n",
    "\n",
    "timesrun = 0\n",
    "while timesrun < games:\n",
    "    \n",
    "    numberofturns = 0\n",
    "    score = 0 \n",
    "    while score < 100:\n",
    "        numberofturns += 1\n",
    "        \n",
    "        turntotal = 0\n",
    "        die = 0\n",
    "        while die != 1 and turntotal < 20 and score + turntotal < 100:\n",
    "            die = rd.randint(1, 6)\n",
    "            if die == 1:\n",
    "                turntotal = 0\n",
    "            else: \n",
    "                turntotal += die\n",
    "                \n",
    "        score += turntotal\n",
    "        \n",
    "    totalnumberofturns += numberofturns\n",
    "    timesrun += 1\n",
    "avgturns = totalnumberofturns/games\n",
    "print(avgturns)"
   ]
  },
  {
   "cell_type": "markdown",
   "metadata": {},
   "source": [
    "### 5. "
   ]
  },
  {
   "cell_type": "code",
   "execution_count": 5,
   "metadata": {},
   "outputs": [
    {
     "name": "stdout",
     "output_type": "stream",
     "text": [
      "Player 1's score: 0\n",
      "Player 2's score: 0\n",
      "It is Player 1's Turn.\n",
      "Roll: 4\n",
      "Roll: 4\n",
      "Roll: 1\n",
      "Turn total: 0 \n",
      "New Score: 0\n",
      "Player 1's score: 0\n",
      "Player 2's score: 0\n",
      "It is Player 2's Turn.\n",
      "Roll: 3\n",
      "Roll: 5\n",
      "Roll: 4\n",
      "Roll: 4\n",
      "Roll: 3\n",
      "Roll: 4\n",
      "Turn total: 23 \n",
      "New Score: 23\n",
      "Player 1's score: 0\n",
      "Player 2's score: 23\n",
      "It is Player 1's Turn.\n",
      "Roll: 3\n",
      "Roll: 5\n",
      "Roll: 2\n",
      "Roll: 5\n",
      "Roll: 2\n",
      "Roll: 3\n",
      "Turn total: 20 \n",
      "New Score: 20\n",
      "Player 1's score: 20\n",
      "Player 2's score: 23\n",
      "It is Player 2's Turn.\n",
      "Roll: 2\n",
      "Roll: 1\n",
      "Turn total: 0 \n",
      "New Score: 23\n",
      "Player 1's score: 20\n",
      "Player 2's score: 23\n",
      "It is Player 1's Turn.\n",
      "Roll: 5\n",
      "Roll: 3\n",
      "Roll: 5\n",
      "Roll: 6\n",
      "Roll: 5\n",
      "Turn total: 24 \n",
      "New Score: 44\n",
      "Player 1's score: 44\n",
      "Player 2's score: 23\n",
      "It is Player 2's Turn.\n",
      "Roll: 2\n",
      "Roll: 3\n",
      "Roll: 1\n",
      "Turn total: 0 \n",
      "New Score: 23\n",
      "Player 1's score: 44\n",
      "Player 2's score: 23\n",
      "It is Player 1's Turn.\n",
      "Roll: 6\n",
      "Roll: 1\n",
      "Turn total: 0 \n",
      "New Score: 44\n",
      "Player 1's score: 44\n",
      "Player 2's score: 23\n",
      "It is Player 2's Turn.\n",
      "Roll: 6\n",
      "Roll: 3\n",
      "Roll: 4\n",
      "Roll: 5\n",
      "Roll: 1\n",
      "Turn total: 0 \n",
      "New Score: 23\n",
      "Player 1's score: 44\n",
      "Player 2's score: 23\n",
      "It is Player 1's Turn.\n",
      "Roll: 3\n",
      "Roll: 4\n",
      "Roll: 3\n",
      "Roll: 5\n",
      "Roll: 6\n",
      "Turn total: 21 \n",
      "New Score: 65\n",
      "Player 1's score: 65\n",
      "Player 2's score: 23\n",
      "It is Player 2's Turn.\n",
      "Roll: 2\n",
      "Roll: 5\n",
      "Roll: 4\n",
      "Roll: 4\n",
      "Roll: 5\n",
      "Turn total: 20 \n",
      "New Score: 43\n",
      "Player 1's score: 65\n",
      "Player 2's score: 43\n",
      "It is Player 1's Turn.\n",
      "Roll: 3\n",
      "Roll: 1\n",
      "Turn total: 0 \n",
      "New Score: 65\n",
      "Player 1's score: 65\n",
      "Player 2's score: 43\n",
      "It is Player 2's Turn.\n",
      "Roll: 5\n",
      "Roll: 1\n",
      "Turn total: 0 \n",
      "New Score: 43\n",
      "Player 1's score: 65\n",
      "Player 2's score: 43\n",
      "It is Player 1's Turn.\n",
      "Roll: 1\n",
      "Turn total: 0 \n",
      "New Score: 65\n",
      "Player 1's score: 65\n",
      "Player 2's score: 43\n",
      "It is Player 2's Turn.\n",
      "Roll: 6\n",
      "Roll: 4\n",
      "Roll: 6\n",
      "Roll: 6\n",
      "Turn total: 22 \n",
      "New Score: 65\n",
      "Player 1's score: 65\n",
      "Player 2's score: 65\n",
      "It is Player 1's Turn.\n",
      "Roll: 6\n",
      "Roll: 1\n",
      "Turn total: 0 \n",
      "New Score: 65\n",
      "Player 1's score: 65\n",
      "Player 2's score: 65\n",
      "It is Player 2's Turn.\n",
      "Roll: 5\n",
      "Roll: 4\n",
      "Roll: 3\n",
      "Roll: 2\n",
      "Roll: 6\n",
      "Turn total: 20 \n",
      "New Score: 85\n",
      "Player 1's score: 65\n",
      "Player 2's score: 85\n",
      "It is Player 1's Turn.\n",
      "Roll: 3\n",
      "Roll: 6\n",
      "Roll: 1\n",
      "Turn total: 0 \n",
      "New Score: 65\n",
      "Player 1's score: 65\n",
      "Player 2's score: 85\n",
      "It is Player 2's Turn.\n",
      "Roll: 2\n",
      "Roll: 5\n",
      "Roll: 2\n",
      "Roll: 2\n",
      "Roll: 2\n",
      "Roll: 5\n",
      "Turn total: 18 \n",
      "New Score: 103\n",
      "Player 2 wins!\n"
     ]
    }
   ],
   "source": [
    "import random as rd\n",
    "\n",
    "rd.seed(0)\n",
    "\n",
    "currentplayer = 1\n",
    "score1 = 0\n",
    "score2 = 0\n",
    "while score1 < 100 and score2 < 100:\n",
    "    print(f\"Player 1's score: {score1}\")\n",
    "    print(f\"Player 2's score: {score2}\")\n",
    "    print(f\"It is Player {currentplayer}'s Turn.\")\n",
    "    turntotal = 0\n",
    "    die = 0\n",
    "    while die != 1 and turntotal < 20 and score1 + turntotal < 100 and score2 + turntotal < 100:\n",
    "        die = rd.randint(1, 6)\n",
    "        print(f\"Roll: {die}\")\n",
    "        if die == 1:\n",
    "            turntotal = 0\n",
    "        else: \n",
    "            turntotal += die\n",
    "    if currentplayer == 1: \n",
    "        score1 += turntotal\n",
    "        print(f\"Turn total: {turntotal} \\nNew Score: {score1}\")\n",
    "    else: \n",
    "        score2 += turntotal\n",
    "        print(f\"Turn total: {turntotal} \\nNew Score: {score2}\")\n",
    "    currentplayer = 3 - currentplayer\n",
    "print(f\"Player {3 - currentplayer} wins!\")  \n",
    "\n",
    "# Peter did this in a simpler way – see his solutions"
   ]
  },
  {
   "cell_type": "markdown",
   "metadata": {},
   "source": [
    "### 6."
   ]
  },
  {
   "cell_type": "code",
   "execution_count": 4,
   "metadata": {},
   "outputs": [
    {
     "name": "stdout",
     "output_type": "stream",
     "text": [
      "Games? 10000\n",
      "Probability that Player 1 wins: 0.5301\n"
     ]
    }
   ],
   "source": [
    "import random as rd\n",
    "rd.seed(1)\n",
    "\n",
    "games = int(input(\"Games? \"))\n",
    "\n",
    "timesrun = 0\n",
    "totalwinners = 0\n",
    "while timesrun < games:\n",
    "    timesrun += 1\n",
    "    currentplayer = 1\n",
    "    score1 = 0\n",
    "    score2 = 0\n",
    "    while score1 < 100 and score2 < 100:\n",
    "        turntotal = 0\n",
    "        die = 0\n",
    "        while die != 1 and turntotal < 20 and score1 + turntotal < 100 and score2 + turntotal < 100:\n",
    "            die = rd.randint(1, 6)\n",
    "            if die == 1:\n",
    "                turntotal = 0\n",
    "            else: \n",
    "                turntotal += die\n",
    "        if currentplayer == 1: \n",
    "            score1 += turntotal\n",
    "        else: \n",
    "            score2 += turntotal\n",
    "        currentplayer = 3 - currentplayer\n",
    "        winner = 3 - currentplayer\n",
    "    totalwinners += winner \n",
    "prob1 = 2 - (totalwinners/games)\n",
    "print(f\"Probability that Player 1 wins: {prob1}\")"
   ]
  },
  {
   "cell_type": "markdown",
   "metadata": {},
   "source": [
    "### 7. "
   ]
  },
  {
   "cell_type": "code",
   "execution_count": 2,
   "metadata": {},
   "outputs": [
    {
     "name": "stdout",
     "output_type": "stream",
     "text": [
      "Integer a? 504\n",
      "Integer b? 2226\n",
      "The greatest common denominator of a and b: 42\n"
     ]
    }
   ],
   "source": [
    "a = int(input(\"Integer a? \"))\n",
    "b = int(input(\"Integer b? \"))\n",
    "\n",
    "while b!=0:\n",
    "    aprime = b\n",
    "    bprime = a % b\n",
    "    a = aprime\n",
    "    b = bprime\n",
    "print(f\"The greatest common denominator of a and b: {a}\")"
   ]
  },
  {
   "cell_type": "markdown",
   "metadata": {},
   "source": [
    "### 8. "
   ]
  },
  {
   "cell_type": "code",
   "execution_count": 2,
   "metadata": {},
   "outputs": [
    {
     "name": "stdout",
     "output_type": "stream",
     "text": [
      "Enter an integer: 6\n",
      "6\n"
     ]
    }
   ],
   "source": [
    "i = int(input(\"Enter an integer: \"))\n",
    "firsttime = True\n",
    "\n",
    "while i < 3 or firsttime:\n",
    "    print(i)\n",
    "    firsttime = False\n",
    "    i += 1"
   ]
  },
  {
   "cell_type": "markdown",
   "metadata": {},
   "source": [
    "### 9. "
   ]
  },
  {
   "cell_type": "code",
   "execution_count": 3,
   "metadata": {},
   "outputs": [
    {
     "name": "stdout",
     "output_type": "stream",
     "text": [
      "Integer? 12345\n",
      "54321\n"
     ]
    }
   ],
   "source": [
    "i = int(input(\"Integer? \"))\n",
    "b = 0\n",
    "while i != 0:\n",
    "    b = (b*10) + (i % 10)\n",
    "    i //= 10\n",
    "    \n",
    "print (b)"
   ]
  },
  {
   "cell_type": "markdown",
   "metadata": {},
   "source": [
    "### 10. "
   ]
  },
  {
   "cell_type": "code",
   "execution_count": 1,
   "metadata": {},
   "outputs": [
    {
     "name": "stdout",
     "output_type": "stream",
     "text": [
      "Guess! 4\n",
      "Too low\n",
      "Try again... 8\n",
      "Too high\n",
      "Try again... 6\n",
      "Correct!\n"
     ]
    }
   ],
   "source": [
    "import random as rd\n",
    "rd.seed(0)\n",
    "\n",
    "guess = int(input(\"Guess! \"))\n",
    "num = rd.randint(0,10)\n",
    "\n",
    "while num != guess:\n",
    "    if num > guess:\n",
    "        print (\"Too low\")\n",
    "    else:\n",
    "        print (\"Too high\")\n",
    "    guess = int(input(\"Try again... \"))   \n",
    "print(\"Correct!\")"
   ]
  },
  {
   "cell_type": "markdown",
   "metadata": {},
   "source": [
    "### 11. "
   ]
  },
  {
   "cell_type": "code",
   "execution_count": 4,
   "metadata": {},
   "outputs": [
    {
     "name": "stdout",
     "output_type": "stream",
     "text": [
      "49 + 97 = 146\n",
      "Correct!\n"
     ]
    }
   ],
   "source": [
    "import random as rd\n",
    "rd.seed(0)\n",
    "\n",
    "a = int(rd.randint(0,100))\n",
    "b = int(rd.randint(0,100))\n",
    "num = a + b\n",
    "\n",
    "guess = int(input(f\"{a} + {b} = \"))\n",
    "\n",
    "while num != guess:\n",
    "    guess = int(input(f\"Try again... {a} + {b} = \"))   \n",
    "print(\"Correct!\")"
   ]
  },
  {
   "cell_type": "markdown",
   "metadata": {},
   "source": [
    "### 12."
   ]
  },
  {
   "cell_type": "code",
   "execution_count": 11,
   "metadata": {},
   "outputs": [
    {
     "name": "stdout",
     "output_type": "stream",
     "text": [
      "49 + 97 = 12\n",
      "Wrong. Try again... 49 + 97 = 13\n",
      "Wrong. Try again... 49 + 97 = 14\n",
      "Wrong. Try again... 49 + 97 = 15\n",
      "Wrong. Try again... 49 + 97 = 16\n",
      "Nope! You need to study more\n"
     ]
    }
   ],
   "source": [
    "import random as rd\n",
    "rd.seed(0)\n",
    "\n",
    "a = int(rd.randint(0,100))\n",
    "b = int(rd.randint(0,100))\n",
    "num = a + b\n",
    "\n",
    "guess = int(input(f\"{a} + {b} = \"))\n",
    "counter = 1\n",
    "while num != guess and counter < 5:\n",
    "    guess = int(input(f\"Wrong. Try again... {a} + {b} = \")) \n",
    "    counter +=1\n",
    "    if counter > 5:\n",
    "        print(\"Nope! You need to study more\")\n",
    "        break\n",
    "else: \n",
    "    print(f\"Correct! You took {counter} tries\")"
   ]
  },
  {
   "cell_type": "markdown",
   "metadata": {},
   "source": [
    "### 13."
   ]
  },
  {
   "cell_type": "code",
   "execution_count": 3,
   "metadata": {},
   "outputs": [
    {
     "name": "stdout",
     "output_type": "stream",
     "text": [
      "Number of flips: 100\n",
      "Both Heads: *************************** \n",
      "Both Tails: *********************** \n",
      "One of each: ************************************************** \n"
     ]
    }
   ],
   "source": [
    "import random as rd\n",
    "rd.seed(0)\n",
    "\n",
    "# heads is 0, tails is 1 \n",
    "\n",
    "a = 0\n",
    "b = 0\n",
    "flips = int(input(\"Number of flips: \"))\n",
    "heads = 0\n",
    "tails = 0\n",
    "both = 0\n",
    "counter = 0\n",
    "\n",
    "while counter < flips:\n",
    "    a = int(rd.randint(0, 1))\n",
    "    b = int(rd.randint(0,1))\n",
    "    counter +=1\n",
    "    if a == 0 and b == 0:\n",
    "        heads += 1\n",
    "    elif a == 1 and b == 1:\n",
    "        tails += 1\n",
    "    else:\n",
    "        both += 1\n",
    "        \n",
    "star = \"*\"\n",
    "print(f\"Both Heads: {heads*star} \")\n",
    "print(f\"Both Tails: {tails*star} \")\n",
    "print(f\"One of each: {both*star} \")"
   ]
  },
  {
   "cell_type": "markdown",
   "metadata": {},
   "source": [
    "### 14."
   ]
  },
  {
   "cell_type": "code",
   "execution_count": 12,
   "metadata": {},
   "outputs": [
    {
     "name": "stdout",
     "output_type": "stream",
     "text": [
      "Number of flips: 100\n",
      "Both Heads: *********************************** \n",
      "Both Tails: *********************************** \n",
      "One of each: *********************************************************************** \n"
     ]
    }
   ],
   "source": [
    "import random as rd\n",
    "rd.seed(0)\n",
    "\n",
    "# heads is 0, tails is 1 \n",
    "\n",
    "a = 0\n",
    "b = 0\n",
    "flips = int(input(\"Number of flips: \"))\n",
    "heads = 1\n",
    "tails = 1\n",
    "both = 1\n",
    "counter = 0\n",
    "\n",
    "while counter < flips:\n",
    "    a = int(rd.randint(0, 1))\n",
    "    b = int(rd.randint(0,1))\n",
    "    counter +=1\n",
    "    if a == 0 and b == 0:\n",
    "        heads += 1\n",
    "    elif a == 1 and b == 1:\n",
    "        tails += 1\n",
    "    else:\n",
    "        both += 1\n",
    "while heads + tails != both or heads != tails:\n",
    "    a = int(rd.randint(0, 1))\n",
    "    b = int(rd.randint(0,1))\n",
    "    counter +=1\n",
    "    if a == 0 and b == 0:\n",
    "        heads += 1\n",
    "    elif a == 1 and b == 1:\n",
    "        tails += 1\n",
    "    else:\n",
    "        both += 1\n",
    "\n",
    "heads //= 20\n",
    "tails //= 20\n",
    "both //= 20\n",
    "star = \"*\"\n",
    "print(f\"Both Heads: {heads*star} \")\n",
    "print(f\"Both Tails: {tails*star} \")\n",
    "print(f\"One of each: {both*star} \")"
   ]
  },
  {
   "cell_type": "code",
   "execution_count": null,
   "metadata": {},
   "outputs": [],
   "source": []
  }
 ],
 "metadata": {
  "kernelspec": {
   "display_name": "Python 3",
   "language": "python",
   "name": "python3"
  },
  "language_info": {
   "codemirror_mode": {
    "name": "ipython",
    "version": 3
   },
   "file_extension": ".py",
   "mimetype": "text/x-python",
   "name": "python",
   "nbconvert_exporter": "python",
   "pygments_lexer": "ipython3",
   "version": "3.7.7"
  }
 },
 "nbformat": 4,
 "nbformat_minor": 4
}
