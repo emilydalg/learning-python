{
 "cells": [
  {
   "cell_type": "markdown",
   "metadata": {},
   "source": [
    "# chapter 7 lists and tuples"
   ]
  },
  {
   "cell_type": "markdown",
   "metadata": {},
   "source": [
    "### 1. "
   ]
  },
  {
   "cell_type": "code",
   "execution_count": null,
   "metadata": {},
   "outputs": [],
   "source": [
    "import random as rd\n",
    "\n",
    "rd.seed(0)\n",
    "\n",
    "user = rd.randint(0,1)\n",
    "computer = 1 - user\n",
    "print(f\"You are player number {user + 1}\")\n",
    "print(\"Enter nothing to hold; enter anything to roll\")\n",
    "\n",
    "currentplayer = 0\n",
    "score = [0, 0]\n",
    "while score[0] < 100 and score[1] < 100:\n",
    "    print(f\"Player 1's score: {score[0]}\")\n",
    "    print(f\"Player 2's score: {score[1]}\")\n",
    "    print(f\"It is Player {currentplayer + 1}'s Turn.\")\n",
    "    turntotal = 0\n",
    "    die = 0\n",
    "    userchoice = \"a\"\n",
    "    if currentplayer == user:\n",
    "        while die != 1 and userchoice != \"\": \n",
    "            die = rd.randint(1, 6)\n",
    "            print(f\"Roll: {die}\")\n",
    "            if die == 1:\n",
    "                turntotal = 0\n",
    "            else: \n",
    "                turntotal += die\n",
    "            userchoice = input(f\"Turntotal: {turntotal} \\t Roll or hold? \")\n",
    "    else: \n",
    "        while die != 1 and turntotal < 20 and score[0] + turntotal < 100 and score[1] + turntotal < 100:\n",
    "            die = rd.randint(1, 6)\n",
    "            print(f\"Roll: {die}\")\n",
    "            if die == 1:\n",
    "                turntotal = 0\n",
    "            else: \n",
    "                turntotal += die\n",
    "    print(currentplayer)\n",
    "    score[currentplayer] += turntotal\n",
    "    print(f\"Turn total: {turntotal} \\nNew Score: {score[currentplayer]}\")\n",
    "    currentplayer = 1 - currentplayer\n",
    "print(f\"Player {1 - currentplayer + 1} wins!\")"
   ]
  },
  {
   "cell_type": "markdown",
   "metadata": {},
   "source": [
    "### 2."
   ]
  },
  {
   "cell_type": "code",
   "execution_count": 2,
   "metadata": {},
   "outputs": [
    {
     "name": "stdout",
     "output_type": "stream",
     "text": [
      "Enter number of pieces in each pile (with spaces in between): 2 4 6\n",
      "['2', '4', '6']\n",
      "**\n"
     ]
    }
   ],
   "source": [
    "threepiles = input(\"Enter number of pieces in each pile (with spaces in between): \")\n",
    "piles = threepiles.split(\" \")\n",
    "print(piles)\n",
    "star = \"*\"\n",
    "\n",
    "print(int(piles[0])*star)"
   ]
  },
  {
   "cell_type": "code",
   "execution_count": null,
   "metadata": {},
   "outputs": [],
   "source": [
    "a = int(input(\"Pieces in pile 0? \"))\n",
    "b = int(input(\"Pile 1? \"))\n",
    "c = int(input(\"Pile 2? \"))\n",
    "\n",
    "currentplayer = 1 \n",
    "while piles != [0, 0, 0]:\n",
    "    print(f\"Pile 0: {piles[0]*star}\")\n",
    "    print(f\"Pile 1: {piles[1]*star}\")\n",
    "    print(f\"Pile 2: {piles[2]*star}\")\n",
    "    print(f\"It is Player {currentplayer}'s Turn.\")\n",
    "    pileremove = int(input(\"Which pile to take from? \"))\n",
    "    numberremove = int(input(\"How many to take? \"))\n",
    "    piles[pileremove] = piles[pileremove] - numberremove\n",
    "    currentplayer = 3 - currentplayer\n",
    "print(f\"Player {3-currentplayer} wins!\")"
   ]
  },
  {
   "cell_type": "markdown",
   "metadata": {},
   "source": [
    "### 3."
   ]
  },
  {
   "cell_type": "code",
   "execution_count": 6,
   "metadata": {},
   "outputs": [
    {
     "name": "stdout",
     "output_type": "stream",
     "text": [
      "Squares tall? 7\n",
      "Squares wide? 8\n",
      "['********']\n",
      "['********']\n",
      "['********']\n",
      "['********']\n",
      "['********']\n",
      "['********']\n",
      "['********']\n",
      "\n"
     ]
    }
   ],
   "source": [
    "height = int(input(\"Squares tall? \"))\n",
    "width = \"*\" * int(input(\"Squares wide? \"))\n",
    "\n",
    "board = height * f\"{[width]}\\n\"\n",
    "print(board)"
   ]
  },
  {
   "cell_type": "code",
   "execution_count": null,
   "metadata": {},
   "outputs": [],
   "source": []
  }
 ],
 "metadata": {
  "kernelspec": {
   "display_name": "Python 3",
   "language": "python",
   "name": "python3"
  },
  "language_info": {
   "codemirror_mode": {
    "name": "ipython",
    "version": 3
   },
   "file_extension": ".py",
   "mimetype": "text/x-python",
   "name": "python",
   "nbconvert_exporter": "python",
   "pygments_lexer": "ipython3",
   "version": "3.7.7"
  }
 },
 "nbformat": 4,
 "nbformat_minor": 4
}
