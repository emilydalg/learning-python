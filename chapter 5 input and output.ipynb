{
 "cells": [
  {
   "cell_type": "markdown",
   "metadata": {},
   "source": [
    "# chapter 5"
   ]
  },
  {
   "cell_type": "markdown",
   "metadata": {},
   "source": [
    "### 1. "
   ]
  },
  {
   "cell_type": "markdown",
   "metadata": {},
   "source": [
    "#### chapter 2 exercsie 2"
   ]
  },
  {
   "cell_type": "code",
   "execution_count": 5,
   "metadata": {},
   "outputs": [
    {
     "name": "stdout",
     "output_type": "stream",
     "text": [
      "Enter a complex number: 3+7j\n",
      "7.615773105863909\n"
     ]
    }
   ],
   "source": [
    "a = input(\"Enter a complex number: \")\n",
    "a = complex(a)\n",
    "print(abs(a))"
   ]
  },
  {
   "cell_type": "markdown",
   "metadata": {},
   "source": [
    "#### chapter 2 exercise 7"
   ]
  },
  {
   "cell_type": "code",
   "execution_count": 4,
   "metadata": {},
   "outputs": [
    {
     "name": "stdout",
     "output_type": "stream",
     "text": [
      "Enter a temperature in degrees Fahrenheit: 75.6\n",
      "24.222222222222218\n"
     ]
    }
   ],
   "source": [
    "tempf = input(\"Enter a temperature in degrees Fahrenheit: \")\n",
    "tempf = float(tempf)\n",
    "c = (tempf-32)*5/9\n",
    "print(c)"
   ]
  },
  {
   "cell_type": "code",
   "execution_count": 3,
   "metadata": {},
   "outputs": [
    {
     "name": "stdout",
     "output_type": "stream",
     "text": [
      "Enter a temperature in degrees Celsius: 12.6\n",
      "54.68\n"
     ]
    }
   ],
   "source": [
    "tempc = input(\"Enter a temperature in degrees Celsius: \")\n",
    "tempc = float(tempc)\n",
    "f = tempc*9/5+32\n",
    "print(f)"
   ]
  },
  {
   "cell_type": "markdown",
   "metadata": {},
   "source": [
    "#### chapter 2 exercise 8"
   ]
  },
  {
   "cell_type": "code",
   "execution_count": 6,
   "metadata": {},
   "outputs": [
    {
     "name": "stdout",
     "output_type": "stream",
     "text": [
      "Enter the height of the cylinder: 1.7\n",
      "Enter the radius of the cylinder: 98.6\n",
      "51922.1447946395\n",
      "62138.06375017709\n"
     ]
    }
   ],
   "source": [
    "from math import pi\n",
    "heightstr = input(\"Enter the height of the cylinder: \")\n",
    "radiusstr = input(\"Enter the radius of the cylinder: \")\n",
    "height = float(heightstr) \n",
    "radius = float(radiusstr)\n",
    "volume = (pi)*radius**2*height\n",
    "area = 2*(pi)*radius*height + 2*(pi)*radius**2\n",
    "print(volume)\n",
    "print(area)"
   ]
  },
  {
   "cell_type": "markdown",
   "metadata": {},
   "source": [
    "#### chapter 2 exercise 9"
   ]
  },
  {
   "cell_type": "code",
   "execution_count": 7,
   "metadata": {},
   "outputs": [
    {
     "name": "stdout",
     "output_type": "stream",
     "text": [
      "Enter the subtotal in dollars: 123\n",
      "Enter the gratuity rate: .45\n",
      "55.35\n"
     ]
    }
   ],
   "source": [
    "subtotaldollarsstr = input(\"Enter the subtotal in dollars: \")\n",
    "subtotaldollars = float(subtotaldollarsstr)\n",
    "pennies = subtotaldollars*100\n",
    "gratuitystr = input(\"Enter the gratuity rate: \")\n",
    "gratuity = float(gratuitystr)\n",
    "tippennies = (gratuity)*pennies\n",
    "tipdollars = int(tippennies)/100\n",
    "print(tipdollars)"
   ]
  },
  {
   "cell_type": "markdown",
   "metadata": {},
   "source": [
    "#### chapter 2 exercise 10"
   ]
  },
  {
   "cell_type": "code",
   "execution_count": 2,
   "metadata": {},
   "outputs": [
    {
     "name": "stdout",
     "output_type": "stream",
     "text": [
      "Enter the deposit amount: 100\n",
      "Enter the interest rate: 0.0026666\n",
      "605.6248141161291\n"
     ]
    }
   ],
   "source": [
    "initialstr = input(\"Enter the deposit amount: \")\n",
    "initial = float(initialstr)\n",
    "ratestr = input(\"Enter the interest rate: \")\n",
    "rate = float(ratestr)\n",
    "month1 = initial*(1+(rate))\n",
    "month2 = (month1+initial)*(1+(rate))\n",
    "month3 = (month2+initial)*(1+(rate))\n",
    "month4 = (month3+initial)*(1+(rate))\n",
    "month5 = (month4+initial)*(1+(rate))\n",
    "month6 = (month5+initial)*(1+(rate))\n",
    "print(month6)"
   ]
  },
  {
   "cell_type": "markdown",
   "metadata": {},
   "source": [
    "#### chapter 2 exercise 11"
   ]
  },
  {
   "cell_type": "code",
   "execution_count": 3,
   "metadata": {},
   "outputs": [
    {
     "name": "stdout",
     "output_type": "stream",
     "text": [
      "Enter the side length: 12\n",
      "Enter the number of sides: 8\n",
      "96.0\n",
      "695.2935059634514\n"
     ]
    }
   ],
   "source": [
    "from math import tan, pi\n",
    "sidelength = float(input(\"Enter the side length: \"))\n",
    "sides = float(input(\"Enter the number of sides: \"))\n",
    "apothem= sidelength/(2*tan(pi/sides))\n",
    "perimeter = sides * sidelength\n",
    "area = 1/2 * perimeter * apothem\n",
    "print(perimeter)\n",
    "print(area)"
   ]
  },
  {
   "cell_type": "markdown",
   "metadata": {},
   "source": [
    "#### chapter 2 exercise 12"
   ]
  },
  {
   "cell_type": "code",
   "execution_count": 6,
   "metadata": {},
   "outputs": [
    {
     "name": "stdout",
     "output_type": "stream",
     "text": [
      "Enter the first integer: 6\n",
      "Enter the second integer: 77\n"
     ]
    },
    {
     "data": {
      "text/plain": [
       "(12, 5)"
      ]
     },
     "execution_count": 6,
     "metadata": {},
     "output_type": "execute_result"
    }
   ],
   "source": [
    "a = int(input(\"Enter the first integer: \"))\n",
    "b = int(input(\"Enter the second integer: \"))\n",
    "larger= max(a,b)\n",
    "smaller= min(a,b)\n",
    "divmod(larger,smaller)"
   ]
  },
  {
   "cell_type": "markdown",
   "metadata": {},
   "source": [
    "#### chapter 3 exercise 6"
   ]
  },
  {
   "cell_type": "code",
   "execution_count": 8,
   "metadata": {},
   "outputs": [
    {
     "name": "stdout",
     "output_type": "stream",
     "text": [
      "Enter the first name: Emily\n",
      "Enter the last name: Dalgleish\n",
      "dalgem01\n"
     ]
    }
   ],
   "source": [
    "firstname = (input(\"Enter the first name: \")).lower()\n",
    "lastname = (input(\"Enter the last name: \")).lower()\n",
    "email = lastname[0:4] + firstname[0:2] + \"01\"\n",
    "print(email)"
   ]
  },
  {
   "cell_type": "markdown",
   "metadata": {},
   "source": [
    "### 2. "
   ]
  },
  {
   "cell_type": "code",
   "execution_count": 5,
   "metadata": {},
   "outputs": [
    {
     "name": "stdout",
     "output_type": "stream",
     "text": [
      "Oh, the Places You'll Go!\n",
      "by Dr. Seuss\n",
      "\n",
      "Congratulations!\n",
      "Today is your day.\n",
      "You're off to Great Places!\n",
      "You're off and away!\n",
      "\n",
      "You have brains in your head.\n",
      "You have feet in your shoes.\n",
      "You can steer yourself\n",
      "any direction you choose.\n",
      "You're on your own. And you know what you know.\n",
      "And YOU are the guy who'll decide where to go.\n",
      "\n",
      "You'll look up and down streets. Look 'em over with care.\n",
      "About some you will say, \"I don't choose to go there.\"\n",
      "With your head full of brains and your shoes full of feet,\n",
      "you're too smart to go down any not-so-good street.\n",
      "\n",
      "And you may not find any\n",
      "you'll want to go down.\n",
      "In that case, of course,\n",
      "you'll head straight out of town.\n",
      "\n",
      "It's opener there\n",
      "in the wide open air.\n",
      "\n",
      "Out there things can happen\n",
      "and frequently do\n",
      "to people as brainy\n",
      "and footsy as you.\n",
      "\n",
      "And then things start to happen,\n",
      "don't worry. Don't stew.\n",
      "Just go right along.\n",
      "You'll start happening too.\n",
      "\n",
      "OH!\n",
      "THE PLACES YOU'LL GO!\n",
      "\n",
      "You'll be on y our way up!\n",
      "You'll be seeing great sights!\n",
      "You'll join the high fliers\n",
      "who soar to high heights.\n",
      "\n",
      "You won't lag behind, because you'll have the speed.\n",
      "You'll pass the whole gang and you'll soon take the lead.\n",
      "Wherever you fly, you'll be best of the best.\n",
      "Wherever you go, you will top all the rest.\n",
      "\n",
      "Except when you don't.\n",
      "Because, sometimes, you won't.\n",
      "\n",
      "I'm sorry to say so\n",
      "but, sadly, it's true\n",
      "that Bang-ups\n",
      "and Hang-ups\n",
      "can happen to you.\n",
      "\n",
      "You can get all hung up\n",
      "in a prickle-ly perch.\n",
      "And your gang will fly on.\n",
      "You'll be left in a Lurch.\n",
      "\n",
      "You'll come down from the Lurch\n",
      "with an unpleasant bump.\n",
      "And the chances are, then,\n",
      "that you'll be in a Slump.\n",
      "\n",
      "And when you're in a Slump,\n",
      "you're not in for much fun.\n",
      "Un-slumping yourself\n",
      "is not easily done.\n",
      "\n",
      "You will come to a place where the streets are not marked.\n",
      "Some windows are lighted. But mostly they're darked.\n",
      "A place you could sprain both your elbow and chin!\n",
      "Do you dare to stay out? Do you dare to go in?\n",
      "How much can you lose? How much can you win?\n",
      "\n",
      "And IF you go in, should you turn left or right...\n",
      "or right-and-three-quarters? Or, maybe, not quite?\n",
      "Or go around back and sneak in from behind?\n",
      "Simple it's not, I'm afraid you will find,\n",
      "for a mind-maker-upper to make up his mind.\n",
      "\n",
      "You can get so confused\n",
      "that you'll start in to race\n",
      "down long wiggled roads at a break-necking pace\n",
      "and grind on for miles cross weirdish wild space,\n",
      "headed, I fear, toward a most useless place.\n",
      "The Waiting Place...\n",
      "\n",
      "...for people just waiting.\n",
      "Waiting for a train to go\n",
      "or a bus to come, or a plane to go\n",
      "or the mail to come, or the rain to go\n",
      "or the phone to ring, or the snow to snow\n",
      "or the waiting around for a Yes or No\n",
      "or waiting for their hair to grow.\n",
      "Everyone is just waiting.\n",
      "\n",
      "Waiting for the fish to bite\n",
      "or waiting for the wind to fly a kite\n",
      "or waiting around for Friday night\n",
      "or waiting, perhaps, for their Uncle Jake\n",
      "or a pot to boil, or a Better Break\n",
      "or a string of pearls, or a pair of pants\n",
      "or a wig with curls, or Another Chance.\n",
      "Everyone is just waiting.\n",
      "\n",
      "NO!\n",
      "That's not for you!\n",
      "\n",
      "Somehow you'll escape\n",
      "all that waiting and staying\n",
      "You'll find the bright places\n",
      "where Boom Bands are playing.\n",
      "\n",
      "With banner flip-flapping,\n",
      "once more you'll ride high!\n",
      "Ready for anything under the sky.\n",
      "Ready because you're that kind of a guy!\n",
      "\n",
      "Oh, the places you'll go! There is fun to be done!\n",
      "There are points to be scored. There are games to be won.\n",
      "And the magical things you can do with that ball\n",
      "will make you the winning-est winner of all.\n",
      "Fame! You'll be as famous as famous can be,\n",
      "with the whole wide world watching you win on TV.\n",
      "\n",
      "Except when they don't\n",
      "Because, sometimes they won't.\n",
      "\n",
      "I'm afraid that some times\n",
      "you'll play lonely games too.\n",
      "Games you can't win\n",
      "'cause you'll play against you.\n",
      "\n",
      "All Alone!\n",
      "Whether you like it or not,\n",
      "Alone will be something\n",
      "you'll be quite a lot.\n",
      "\n",
      "And when you're alone, there's a very good chance\n",
      "you'll meet things that scare you right out of your pants.\n",
      "There are some, down the road between hither and yon,\n",
      "that can scare you so much you won't want to go on.\n",
      "\n",
      "But on you will go\n",
      "though the weather be foul.\n",
      "On you will go\n",
      "though your enemies prowl.\n",
      "On you will go\n",
      "though the Hakken-Kraks howl.\n",
      "Onward up many\n",
      "a frightening creek,\n",
      "though your arms may get sore\n",
      "and your sneakers may leak.\n",
      "\n",
      "On and on you will hike,\n",
      "And I know you'll hike far\n",
      "and face up to your problems\n",
      "whatever they are.\n",
      "\n",
      "You'll get mixed up, of course,\n",
      "as you already know.\n",
      "You'll get mixed up\n",
      "with many strange birds as you go.\n",
      "So be sure when you step.\n",
      "Step with care and great tact\n",
      "and remember that Life's\n",
      "a Great Balancing Act.\n",
      "Just never foget to be dexterous and deft.\n",
      "And never mix up your right foot with your left.\n",
      "\n",
      "And will you succeed?\n",
      "Yes! You will, indeed!\n",
      "(98 and 3/4 percent guaranteed.)\n",
      "\n",
      "KID, YOU'LL MOVE MOUNTAINS!\n",
      "\n",
      "So...\n",
      "be your name Buxbaum or Bixby or Bray\n",
      "or Mordecai Ali Van Allen O'Shea,\n",
      "You're off the Great Places!\n",
      "Today is your day!\n",
      "Your mountain is waiting.\n",
      "So...get on your way!\n",
      "3\n",
      "51\n",
      "6\n",
      "30\n",
      "22\n",
      "Oh, the Places You'll Go!\n",
      "by Dr. Seuss\n",
      "\n",
      "Congratulations!\n",
      "Today is your day.\n",
      "You're off to Great Places!\n",
      "You're off and away!\n",
      "\n",
      "You have brains in your head.\n",
      "You have feet in your shoes.\n",
      "You can steer yourself\n",
      "any direction you choose.\n",
      "You're on your own. And you know what you know.\n",
      "And YOU are the guy who'll decide where to go.\n",
      "\n",
      "You'll look up and down streets. Look 'em over with care.\n",
      "About some you will say, \"I don't choose to go there.\"\n",
      "With your head full of brains and your shoes full of feet,\n",
      "you're too smart to go down any not-so-good street.\n",
      "\n",
      "And you may not find any\n",
      "you'll want to go down.\n",
      "In that case, of course,\n",
      "you'll head straight out of town.\n",
      "\n",
      "It's opener there\n",
      "in the wide open air.\n",
      "\n",
      "Out there things can happen\n",
      "and frequently do\n",
      "to people as brainy\n",
      "and footsy as you.\n",
      "\n",
      "And then things start to happen,\n",
      "don't worry. Don't stew.\n",
      "Just go right along.\n",
      "You'll start happening too.\n",
      "\n",
      "OH!\n",
      "THE PLACES YOU'LL GO!\n",
      "\n",
      "You'll be on y our way up!\n",
      "You'll be seeing great sights!\n",
      "You'll join the high fliers\n",
      "who soar to high heights.\n",
      "\n",
      "You won't lag behind, because you'll have the speed.\n",
      "You'll pass the whole gang and you'll soon take the lead.\n",
      "Wherever you fly, you'll be best of the best.\n",
      "Wherever you go, you will top all the rest.\n",
      "\n",
      "Except when you don't.\n",
      "Because, sometimes, you won't.\n",
      "\n",
      "I'm sorry to say so\n",
      "but, sadly, it's true\n",
      "that Bang-ups\n",
      "and Hang-ups\n",
      "can happen to you.\n",
      "\n",
      "You can get all hung up\n",
      "in a prickle-ly perch.\n",
      "And your gang will fly on.\n",
      "You'll be left in a Lurch.\n",
      "\n",
      "You'll come down from the Lurch\n",
      "with an unpleasant bump.\n",
      "And the chances are, then,\n",
      "that you'll be in a Slump.\n",
      "\n",
      "And when you're in a Slump,\n",
      "you're not in for much fun.\n",
      "Un-slumping yourself\n",
      "is not easily done.\n",
      "\n",
      "You will come to a place where the streets are not marked.\n",
      "Some windows are lighted. But mostly they're darked.\n",
      "A place you could sprain both your elbow and chin!\n",
      "Do you dare to stay out? Do you dare to go in?\n",
      "How much can you lose? How much can you win?\n",
      "\n",
      "And IF you go in, should you turn left or right...\n",
      "or right-and-three-quarters? Or, maybe, not quite?\n",
      "Or go around back and sneak in from behind?\n",
      "Simple it's not, I'm afraid you will find,\n",
      "for a mind-maker-upper to make up his mind.\n",
      "\n",
      "You can get so confused\n",
      "that you'll start in to race\n",
      "down long wiggled roads at a break-necking pace\n",
      "and grind on for miles cross weirdish wild space,\n",
      "headed, I fear, toward a most useless place.\n",
      "The Waiting Place...\n",
      "\n",
      "...for people just waiting.\n",
      "Waiting for a train to go\n",
      "or a bus to come, or a plane to go\n",
      "or the mail to come, or the rain to go\n",
      "or the phone to ring, or the snow to snow\n",
      "or the waiting around for a Yes or No\n",
      "or waiting for their hair to grow.\n",
      "Everyone is just waiting.\n",
      "\n",
      "Waiting for the fish to bite\n",
      "or waiting for the wind to fly a kite\n",
      "or waiting around for Friday night\n",
      "or waiting, perhaps, for their Uncle Jake\n",
      "or a pot to boil, or a Better Break\n",
      "or a string of pearls, or a pair of pants\n",
      "or a wig with curls, or Another Chance.\n",
      "Everyone is just waiting.\n",
      "\n",
      "NO!\n",
      "That's not for you!\n",
      "\n",
      "Somehow you'll escape\n",
      "all that waiting and staying\n",
      "You'll find the bright places\n",
      "where Boom Bands are playing.\n",
      "\n",
      "With banner flip-flapping,\n",
      "once more you'll ride high!\n",
      "Ready for anything under the sky.\n",
      "Ready because you're that kind of a guy!\n",
      "\n",
      "Oh, the places you'll go! There is fun to be done!\n",
      "There are points to be scored. There are games to be won.\n",
      "And the magical things you can do with that ball\n",
      "will make you the winning-est winner of all.\n",
      "Fame! You'll be as famous as famous can be,\n",
      "with the whole wide world watching you win on TV.\n",
      "\n",
      "Except when they don't\n",
      "Because, sometimes they won't.\n",
      "\n",
      "I'm afraid that some times\n",
      "you'll play lonely games too.\n",
      "Games you can't win\n",
      "'cause you'll play against you.\n",
      "\n",
      "All Alone!\n",
      "Whether you like it or not,\n",
      "Alone will be something\n",
      "you'll be quite a lot.\n",
      "\n",
      "And when you're alone, there's a very good chance\n",
      "you'll meet things that scare you right out of your pants.\n",
      "There are some, down the road between hither and yon,\n",
      "that can scare you so much you won't want to go on.\n",
      "\n",
      "But on you will go\n",
      "though the weather be foul.\n",
      "On you will go\n",
      "though your enemies prowl.\n",
      "On you will go\n",
      "though the Hakken-Kraks howl.\n",
      "Onward up many\n",
      "a frightening creek,\n",
      "though your arms may get sore\n",
      "and your sneakers may leak.\n",
      "\n",
      "On and on you will hike,\n",
      "And I know you'll hike far\n",
      "and face up to your problems\n",
      "whatever they are.\n",
      "\n",
      "You'll get mixed up, of course,\n",
      "as you already know.\n",
      "You'll get mixed up\n",
      "with many strange birds as you go.\n",
      "So be sure when you step.\n",
      "Step with care and great tact\n",
      "and remember that Life's\n",
      "a Great Balancing Act.\n",
      "Just never foget to be dexterous and deft.\n",
      "And never mix up your right foot with your left.\n",
      "\n",
      "And will you succeed?\n",
      "Yes! You will, indeed!\n",
      "(98 and 3/4 percent guaranteed.)\n",
      "\n",
      "KID, YOU'LL MOVE MOUNTAINS!\n",
      "\n",
      "So...\n",
      "be your name Buxbaum or Bixby or Bray\n",
      "or Mordecai Ali Van Allen O'Shea,\n",
      "You're off the Great Places!\n",
      "Today is your day!\n",
      "Your mountain is waiting.\n",
      "So...get on your way!\n",
      "3\n",
      "51\n",
      "6\n",
      "30\n",
      "22\n"
     ]
    }
   ],
   "source": [
    "with open(\"seuss.txt\", \"r\") as f:\n",
    "   # print(f.read()) \n",
    "    h = f.read()\n",
    "    print(h)\n",
    "    g = h.lower()\n",
    "    numberofoh = print(g.count(\"oh\"))\n",
    "    numberofthe = print(g.count(\"the\"))\n",
    "    numberofplaces = print(g.count(\"places\"))\n",
    "    numberofyoull = print(g.count(\"you'll\"))\n",
    "    numberofgo = print(g.count(\"go\"))"
   ]
  },
  {
   "cell_type": "code",
   "execution_count": null,
   "metadata": {},
   "outputs": [],
   "source": []
  }
 ],
 "metadata": {
  "kernelspec": {
   "display_name": "Python 3",
   "language": "python",
   "name": "python3"
  },
  "language_info": {
   "codemirror_mode": {
    "name": "ipython",
    "version": 3
   },
   "file_extension": ".py",
   "mimetype": "text/x-python",
   "name": "python",
   "nbconvert_exporter": "python",
   "pygments_lexer": "ipython3",
   "version": "3.7.7"
  }
 },
 "nbformat": 4,
 "nbformat_minor": 4
}
