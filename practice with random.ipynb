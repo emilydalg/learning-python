{
 "cells": [
  {
   "cell_type": "markdown",
   "metadata": {},
   "source": [
    "# practice with random"
   ]
  },
  {
   "cell_type": "code",
   "execution_count": 1,
   "metadata": {},
   "outputs": [],
   "source": [
    "import random as rd\n",
    "import math"
   ]
  },
  {
   "cell_type": "code",
   "execution_count": 2,
   "metadata": {},
   "outputs": [
    {
     "data": {
      "text/plain": [
       "0.8060575823758328"
      ]
     },
     "execution_count": 2,
     "metadata": {},
     "output_type": "execute_result"
    }
   ],
   "source": [
    "rd.random()"
   ]
  },
  {
   "cell_type": "code",
   "execution_count": 7,
   "metadata": {},
   "outputs": [
    {
     "data": {
      "text/plain": [
       "508"
      ]
     },
     "execution_count": 7,
     "metadata": {},
     "output_type": "execute_result"
    }
   ],
   "source": [
    "math.floor(rd.random()*10**3)\n",
    "# a 3 digit number"
   ]
  },
  {
   "cell_type": "code",
   "execution_count": 12,
   "metadata": {},
   "outputs": [
    {
     "data": {
      "text/plain": [
       "6"
      ]
     },
     "execution_count": 12,
     "metadata": {},
     "output_type": "execute_result"
    }
   ],
   "source": [
    "MAX = 7 #exclusive\n",
    "MIN = 3 #inclusive\n",
    "\n",
    "math.floor(rd.random()*(MAX - MIN)) + MIN\n",
    "# number between 3 and 7"
   ]
  },
  {
   "cell_type": "code",
   "execution_count": 15,
   "metadata": {},
   "outputs": [
    {
     "data": {
      "text/plain": [
       "5"
      ]
     },
     "execution_count": 15,
     "metadata": {},
     "output_type": "execute_result"
    }
   ],
   "source": [
    "MAX = 7\n",
    "MIN = 3\n",
    "\n",
    "rd.randint(MIN, MAX)\n",
    "#max is inclusive here\n",
    "\n",
    "rd.randint(MIN, MAX - 1)\n",
    "#max is exclusive here, like cell above"
   ]
  },
  {
   "cell_type": "code",
   "execution_count": null,
   "metadata": {},
   "outputs": [],
   "source": [
    "# seeds - random number generator prompts"
   ]
  },
  {
   "cell_type": "code",
   "execution_count": 16,
   "metadata": {},
   "outputs": [],
   "source": [
    "rd.seed(0)"
   ]
  },
  {
   "cell_type": "code",
   "execution_count": 22,
   "metadata": {},
   "outputs": [
    {
     "data": {
      "text/plain": [
       "0.8081301250035834"
      ]
     },
     "execution_count": 22,
     "metadata": {},
     "output_type": "execute_result"
    }
   ],
   "source": [
    "rd.random()"
   ]
  },
  {
   "cell_type": "code",
   "execution_count": 19,
   "metadata": {},
   "outputs": [
    {
     "data": {
      "text/plain": [
       "0.4435211436398484"
      ]
     },
     "execution_count": 19,
     "metadata": {},
     "output_type": "execute_result"
    }
   ],
   "source": [
    "rd.random()"
   ]
  },
  {
   "cell_type": "code",
   "execution_count": 20,
   "metadata": {},
   "outputs": [
    {
     "data": {
      "text/plain": [
       "0.8068844348124993"
      ]
     },
     "execution_count": 20,
     "metadata": {},
     "output_type": "execute_result"
    }
   ],
   "source": [
    "rd.random()"
   ]
  },
  {
   "cell_type": "code",
   "execution_count": 21,
   "metadata": {},
   "outputs": [
    {
     "data": {
      "text/plain": [
       "0.8926848452848529"
      ]
     },
     "execution_count": 21,
     "metadata": {},
     "output_type": "execute_result"
    }
   ],
   "source": [
    "rd.random()"
   ]
  },
  {
   "cell_type": "markdown",
   "metadata": {},
   "source": [
    "## chapter four with random inputs"
   ]
  },
  {
   "cell_type": "markdown",
   "metadata": {},
   "source": [
    "### 1. "
   ]
  },
  {
   "cell_type": "code",
   "execution_count": 56,
   "metadata": {},
   "outputs": [
    {
     "name": "stdout",
     "output_type": "stream",
     "text": [
      "ab\n",
      "foo\n"
     ]
    }
   ],
   "source": [
    "r = \"\".join(rd.choices([el for el in \"abcdefgh\"], k = rd.randint(1,4)))\n",
    "print(r)\n",
    "\n",
    "if r in \"abcd\":\n",
    "  print(\"foo\")\n",
    "else:\n",
    "  print(\"bar\")"
   ]
  },
  {
   "cell_type": "markdown",
   "metadata": {},
   "source": [
    "### 2. "
   ]
  },
  {
   "cell_type": "code",
   "execution_count": 31,
   "metadata": {},
   "outputs": [
    {
     "name": "stdout",
     "output_type": "stream",
     "text": [
      "9 feet 0 inches\n",
      "you can't ride\n"
     ]
    }
   ],
   "source": [
    "feet = rd.randint(0, 9)\n",
    "inches = rd.randint(0,12)\n",
    "height = feet*12 + inches\n",
    "\n",
    "height = rd.randint(1, 108)\n",
    "\n",
    "print(f\"{height//12} feet {height%12} inches\")\n",
    "\n",
    "if feet != int(feet) or inches != int(inches):\n",
    "    print(\"invalid input\")\n",
    "elif 45 < height < 60:\n",
    "    print(\"you can ride\")\n",
    "elif height < 45:\n",
    "    print(\"you can't ride\")\n",
    "elif height > 60:\n",
    "    print(\"you can't ride\")"
   ]
  },
  {
   "cell_type": "markdown",
   "metadata": {},
   "source": [
    "### 3. "
   ]
  },
  {
   "cell_type": "code",
   "execution_count": 40,
   "metadata": {},
   "outputs": [
    {
     "name": "stdout",
     "output_type": "stream",
     "text": [
      "a = 560 is positive\n"
     ]
    }
   ],
   "source": [
    "a = rd.randint(-1000, 1000)\n",
    "print(f\"a = {a} is \" + (\"positive\" if a > 0 else \"negative\" if a < 0 else \"zero\"))"
   ]
  },
  {
   "cell_type": "markdown",
   "metadata": {},
   "source": [
    "### 4. "
   ]
  },
  {
   "cell_type": "code",
   "execution_count": 46,
   "metadata": {},
   "outputs": [
    {
     "name": "stdout",
     "output_type": "stream",
     "text": [
      ".8a63f9b5\n",
      ".8a63f9b5 is not a number\n"
     ]
    }
   ],
   "source": [
    "a = \"\".join(rd.choices([el for el in \"1234567890.abcdef\"], k = rd.randint(1,17)))\n",
    "dec = a.count(\".\")\n",
    "b = a.replace(\".\", \"\")\n",
    "\n",
    "print(a)\n",
    "\n",
    "if not b.isnumeric() or dec > 1:\n",
    "    print(f\"{a} is not a number\")\n",
    "elif b.isnumeric() and dec == 1:\n",
    "    print(f\"{a} is not an integer\")\n",
    "elif int(a) % 2 == 0:\n",
    "    print(f\"{b} is an even number\")\n",
    "else:\n",
    "    print(f\"{b} is an odd number\")"
   ]
  },
  {
   "cell_type": "markdown",
   "metadata": {},
   "source": [
    "### 5. "
   ]
  },
  {
   "cell_type": "code",
   "execution_count": 58,
   "metadata": {},
   "outputs": [
    {
     "name": "stdout",
     "output_type": "stream",
     "text": [
      "81\n",
      "B\n"
     ]
    }
   ],
   "source": [
    "score = rd.randint(0,100)\n",
    "print(score)\n",
    "if 100 > score > 90 or score == 100:\n",
    "    print(\"A\")\n",
    "elif 90 > score > 80 or score == 90:\n",
    "    print(\"B\")\n",
    "elif 80 > score > 70 or score == 80:\n",
    "    print(\"C\")\n",
    "elif 70 > score > 60 or score == 70:\n",
    "    print(\"D\")\n",
    "elif 60 > score > 0 or score == 60:\n",
    "    print(\"F\")\n",
    "else: \n",
    "    print(\"not a valid score\")"
   ]
  },
  {
   "cell_type": "markdown",
   "metadata": {},
   "source": [
    "### 6. "
   ]
  },
  {
   "cell_type": "code",
   "execution_count": 5,
   "metadata": {},
   "outputs": [
    {
     "name": "stdout",
     "output_type": "stream",
     "text": [
      "Enter your play: rock\n",
      "computer played scissors\n",
      "you win!\n"
     ]
    }
   ],
   "source": [
    "playeranum = rd.randint(1,3)\n",
    "playerbcase = input(\"Enter your play: \")\n",
    "\n",
    "playerb = playerbcase.lower()\n",
    "\n",
    "if playeranum == 1:\n",
    "    playera = \"rock\"\n",
    "elif playeranum == 2:\n",
    "    playera = \"paper\"\n",
    "else:\n",
    "    playera = \"scissors\"\n",
    "    \n",
    "print(f\"computer played {playera}\")\n",
    "\n",
    "if playera == playerb:\n",
    "    print(\"draw\")\n",
    "elif playera == \"rock\" and playerb == \"scissors\":\n",
    "    print(\"computer wins\")\n",
    "elif playera == \"scissors\" and playerb == \"paper\":\n",
    "    print(\"computer wins\")\n",
    "elif playera == \"paper\" and playerb == \"rock\":\n",
    "    print(\"computer wins\")\n",
    "else: \n",
    "    print(\"you win!\")"
   ]
  },
  {
   "cell_type": "code",
   "execution_count": null,
   "metadata": {},
   "outputs": [],
   "source": []
  }
 ],
 "metadata": {
  "kernelspec": {
   "display_name": "Python 3",
   "language": "python",
   "name": "python3"
  },
  "language_info": {
   "codemirror_mode": {
    "name": "ipython",
    "version": 3
   },
   "file_extension": ".py",
   "mimetype": "text/x-python",
   "name": "python",
   "nbconvert_exporter": "python",
   "pygments_lexer": "ipython3",
   "version": "3.7.7"
  }
 },
 "nbformat": 4,
 "nbformat_minor": 4
}
