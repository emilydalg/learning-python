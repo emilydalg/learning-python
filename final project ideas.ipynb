{
 "cells": [
  {
   "cell_type": "markdown",
   "metadata": {},
   "source": [
    "# final project ideas"
   ]
  },
  {
   "cell_type": "code",
   "execution_count": null,
   "metadata": {},
   "outputs": [],
   "source": [
    "print(\"So you want to push the US blue in 2020?\")\n",
    "state = (input(\"What state do you live in? \")).lower\n",
    "\n",
    "swingstates = [arizona, texas, georgia, pennsylvania, north carolina, wisconsin, michigan]\n",
    "\n",
    "if state in swingstates:\n",
    "    print(\"You live in a presidential swing state!\\nYour state will be essential in determining the outcome of the presdiential election.\")\n",
    "    yayornayjoe = (input(\"Would you want to volunteer for Joe Biden? Y/N\")).lower\n",
    "    if yayornayjoe == y:\n",
    "        "
   ]
  }
 ],
 "metadata": {
  "kernelspec": {
   "display_name": "Python 3",
   "language": "python",
   "name": "python3"
  },
  "language_info": {
   "codemirror_mode": {
    "name": "ipython",
    "version": 3
   },
   "file_extension": ".py",
   "mimetype": "text/x-python",
   "name": "python",
   "nbconvert_exporter": "python",
   "pygments_lexer": "ipython3",
   "version": "3.7.7"
  }
 },
 "nbformat": 4,
 "nbformat_minor": 4
}
