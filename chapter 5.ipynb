{
 "cells": [
  {
   "cell_type": "markdown",
   "metadata": {},
   "source": [
    "# chapter 5"
   ]
  },
  {
   "cell_type": "markdown",
   "metadata": {},
   "source": [
    "### 1. "
   ]
  },
  {
   "cell_type": "markdown",
   "metadata": {},
   "source": [
    "#### chapter 2 exercsie 2"
   ]
  },
  {
   "cell_type": "code",
   "execution_count": 5,
   "metadata": {},
   "outputs": [
    {
     "name": "stdout",
     "output_type": "stream",
     "text": [
      "Enter a complex number: 3+7j\n",
      "7.615773105863909\n"
     ]
    }
   ],
   "source": [
    "a = input(\"Enter a complex number: \")\n",
    "a = complex(a)\n",
    "print(abs(a))"
   ]
  },
  {
   "cell_type": "markdown",
   "metadata": {},
   "source": [
    "#### chapter 2 exercise 7"
   ]
  },
  {
   "cell_type": "code",
   "execution_count": 4,
   "metadata": {},
   "outputs": [
    {
     "name": "stdout",
     "output_type": "stream",
     "text": [
      "Enter a temperature in degrees Fahrenheit: 75.6\n",
      "24.222222222222218\n"
     ]
    }
   ],
   "source": [
    "tempf = input(\"Enter a temperature in degrees Fahrenheit: \")\n",
    "tempf = float(tempf)\n",
    "c = (tempf-32)*5/9\n",
    "print(c)"
   ]
  },
  {
   "cell_type": "code",
   "execution_count": 3,
   "metadata": {},
   "outputs": [
    {
     "name": "stdout",
     "output_type": "stream",
     "text": [
      "Enter a temperature in degrees Celsius: 12.6\n",
      "54.68\n"
     ]
    }
   ],
   "source": [
    "tempc = input(\"Enter a temperature in degrees Celsius: \")\n",
    "tempc = float(tempc)\n",
    "f = tempc*9/5+32\n",
    "print(f)"
   ]
  },
  {
   "cell_type": "markdown",
   "metadata": {},
   "source": [
    "#### chapter 2 exercise 8"
   ]
  },
  {
   "cell_type": "code",
   "execution_count": 6,
   "metadata": {},
   "outputs": [
    {
     "name": "stdout",
     "output_type": "stream",
     "text": [
      "Enter the height of the cylinder: 1.7\n",
      "Enter the radius of the cylinder: 98.6\n",
      "51922.1447946395\n",
      "62138.06375017709\n"
     ]
    }
   ],
   "source": [
    "from math import pi\n",
    "heightstr = input(\"Enter the height of the cylinder: \")\n",
    "radiusstr = input(\"Enter the radius of the cylinder: \")\n",
    "height = float(heightstr) \n",
    "radius = float(radiusstr)\n",
    "volume = (pi)*radius**2*height\n",
    "area = 2*(pi)*radius*height + 2*(pi)*radius**2\n",
    "print(volume)\n",
    "print(area)"
   ]
  },
  {
   "cell_type": "markdown",
   "metadata": {},
   "source": [
    "#### chapter 2 exercise 9"
   ]
  },
  {
   "cell_type": "code",
   "execution_count": 7,
   "metadata": {},
   "outputs": [
    {
     "name": "stdout",
     "output_type": "stream",
     "text": [
      "Enter the subtotal in dollars: 123\n",
      "Enter the gratuity rate: .45\n",
      "55.35\n"
     ]
    }
   ],
   "source": [
    "subtotaldollarsstr = input(\"Enter the subtotal in dollars: \")\n",
    "subtotaldollars = float(subtotaldollarsstr)\n",
    "pennies = subtotaldollars*100\n",
    "gratuitystr = input(\"Enter the gratuity rate: \")\n",
    "gratuity = float(gratuitystr)\n",
    "tippennies = (gratuity)*pennies\n",
    "tipdollars = int(tippennies)/100\n",
    "print(tipdollars)"
   ]
  },
  {
   "cell_type": "markdown",
   "metadata": {},
   "source": [
    "#### chapter 2 exercise 10"
   ]
  },
  {
   "cell_type": "code",
   "execution_count": 2,
   "metadata": {},
   "outputs": [
    {
     "name": "stdout",
     "output_type": "stream",
     "text": [
      "Enter the deposit amount: 100\n",
      "Enter the interest rate: 0.0026666\n",
      "605.6248141161291\n"
     ]
    }
   ],
   "source": [
    "initialstr = input(\"Enter the deposit amount: \")\n",
    "initial = float(initialstr)\n",
    "ratestr = input(\"Enter the interest rate: \")\n",
    "rate = float(ratestr)\n",
    "month1 = initial*(1+(rate))\n",
    "month2 = (month1+initial)*(1+(rate))\n",
    "month3 = (month2+initial)*(1+(rate))\n",
    "month4 = (month3+initial)*(1+(rate))\n",
    "month5 = (month4+initial)*(1+(rate))\n",
    "month6 = (month5+initial)*(1+(rate))\n",
    "print(month6)"
   ]
  },
  {
   "cell_type": "markdown",
   "metadata": {},
   "source": [
    "#### chapter 2 exercise 11"
   ]
  },
  {
   "cell_type": "code",
   "execution_count": 3,
   "metadata": {},
   "outputs": [
    {
     "name": "stdout",
     "output_type": "stream",
     "text": [
      "Enter the side length: 12\n",
      "Enter the number of sides: 8\n",
      "96.0\n",
      "695.2935059634514\n"
     ]
    }
   ],
   "source": [
    "from math import tan, pi\n",
    "sidelength = float(input(\"Enter the side length: \"))\n",
    "sides = float(input(\"Enter the number of sides: \"))\n",
    "apothem= sidelength/(2*tan(pi/sides))\n",
    "perimeter = sides * sidelength\n",
    "area = 1/2 * perimeter * apothem\n",
    "print(perimeter)\n",
    "print(area)"
   ]
  },
  {
   "cell_type": "markdown",
   "metadata": {},
   "source": [
    "#### chapter 2 exercise 12"
   ]
  },
  {
   "cell_type": "code",
   "execution_count": 6,
   "metadata": {},
   "outputs": [
    {
     "name": "stdout",
     "output_type": "stream",
     "text": [
      "Enter the first integer: 6\n",
      "Enter the second integer: 77\n"
     ]
    },
    {
     "data": {
      "text/plain": [
       "(12, 5)"
      ]
     },
     "execution_count": 6,
     "metadata": {},
     "output_type": "execute_result"
    }
   ],
   "source": [
    "a = int(input(\"Enter the first integer: \"))\n",
    "b = int(input(\"Enter the second integer: \"))\n",
    "larger= max(a,b)\n",
    "smaller= min(a,b)\n",
    "divmod(larger,smaller)"
   ]
  },
  {
   "cell_type": "markdown",
   "metadata": {},
   "source": [
    "#### chapter 3 exercise 6"
   ]
  },
  {
   "cell_type": "code",
   "execution_count": 8,
   "metadata": {},
   "outputs": [
    {
     "name": "stdout",
     "output_type": "stream",
     "text": [
      "Enter the first name: Emily\n",
      "Enter the last name: Dalgleish\n",
      "dalgem01\n"
     ]
    }
   ],
   "source": [
    "firstname = (input(\"Enter the first name: \")).lower()\n",
    "lastname = (input(\"Enter the last name: \")).lower()\n",
    "email = lastname[0:4] + firstname[0:2] + \"01\"\n",
    "print(email)"
   ]
  },
  {
   "cell_type": "markdown",
   "metadata": {},
   "source": [
    "### 2. "
   ]
  },
  {
   "cell_type": "code",
   "execution_count": 6,
   "metadata": {},
   "outputs": [
    {
     "name": "stdout",
     "output_type": "stream",
     "text": [
      "\n"
     ]
    },
    {
     "ename": "AttributeError",
     "evalue": "'_io.TextIOWrapper' object has no attribute 'lower'",
     "output_type": "error",
     "traceback": [
      "\u001b[0;31m---------------------------------------------------------------------------\u001b[0m",
      "\u001b[0;31mAttributeError\u001b[0m                            Traceback (most recent call last)",
      "\u001b[0;32m<ipython-input-6-a302c6689528>\u001b[0m in \u001b[0;36m<module>\u001b[0;34m\u001b[0m\n\u001b[1;32m      1\u001b[0m \u001b[0;32mwith\u001b[0m \u001b[0mopen\u001b[0m\u001b[0;34m(\u001b[0m\u001b[0;34m\"seuss.txt\"\u001b[0m\u001b[0;34m,\u001b[0m \u001b[0;34m\"a+\"\u001b[0m\u001b[0;34m)\u001b[0m \u001b[0;32mas\u001b[0m \u001b[0mf\u001b[0m\u001b[0;34m:\u001b[0m\u001b[0;34m\u001b[0m\u001b[0;34m\u001b[0m\u001b[0m\n\u001b[1;32m      2\u001b[0m     \u001b[0mprint\u001b[0m\u001b[0;34m(\u001b[0m\u001b[0mf\u001b[0m\u001b[0;34m.\u001b[0m\u001b[0mread\u001b[0m\u001b[0;34m(\u001b[0m\u001b[0;34m)\u001b[0m\u001b[0;34m)\u001b[0m\u001b[0;34m\u001b[0m\u001b[0;34m\u001b[0m\u001b[0m\n\u001b[0;32m----> 3\u001b[0;31m     \u001b[0mg\u001b[0m \u001b[0;34m=\u001b[0m \u001b[0mf\u001b[0m\u001b[0;34m.\u001b[0m\u001b[0mlower\u001b[0m\u001b[0;34m(\u001b[0m\u001b[0;34m)\u001b[0m\u001b[0;34m\u001b[0m\u001b[0;34m\u001b[0m\u001b[0m\n\u001b[0m\u001b[1;32m      4\u001b[0m     \u001b[0mnumberofoh\u001b[0m \u001b[0;34m=\u001b[0m \u001b[0mprint\u001b[0m\u001b[0;34m(\u001b[0m\u001b[0mg\u001b[0m\u001b[0;34m.\u001b[0m\u001b[0mcount\u001b[0m\u001b[0;34m(\u001b[0m\u001b[0;34m\"oh\"\u001b[0m\u001b[0;34m)\u001b[0m\u001b[0;34m)\u001b[0m\u001b[0;34m\u001b[0m\u001b[0;34m\u001b[0m\u001b[0m\n\u001b[1;32m      5\u001b[0m     \u001b[0mnumberofthe\u001b[0m \u001b[0;34m=\u001b[0m \u001b[0mprint\u001b[0m\u001b[0;34m(\u001b[0m\u001b[0mg\u001b[0m\u001b[0;34m.\u001b[0m\u001b[0mcount\u001b[0m\u001b[0;34m(\u001b[0m\u001b[0;34m\"the\"\u001b[0m\u001b[0;34m)\u001b[0m\u001b[0;34m)\u001b[0m\u001b[0;34m\u001b[0m\u001b[0;34m\u001b[0m\u001b[0m\n",
      "\u001b[0;31mAttributeError\u001b[0m: '_io.TextIOWrapper' object has no attribute 'lower'"
     ]
    }
   ],
   "source": [
    "with open(\"seuss.txt\", \"a+\") as f:\n",
    "    print(f.read())\n",
    "    g = f.lower()\n",
    "    numberofoh = print(g.count(\"oh\"))\n",
    "    numberofthe = print(g.count(\"the\"))\n",
    "    numberofplaces = print(g.count(\"places\"))\n",
    "    numberofyoull = print(g.count(\"you'll\"))\n",
    "    numberofgo = print(g.count(\"go\"))"
   ]
  }
 ],
 "metadata": {
  "kernelspec": {
   "display_name": "Python 3",
   "language": "python",
   "name": "python3"
  },
  "language_info": {
   "codemirror_mode": {
    "name": "ipython",
    "version": 3
   },
   "file_extension": ".py",
   "mimetype": "text/x-python",
   "name": "python",
   "nbconvert_exporter": "python",
   "pygments_lexer": "ipython3",
   "version": "3.7.7"
  }
 },
 "nbformat": 4,
 "nbformat_minor": 4
}
