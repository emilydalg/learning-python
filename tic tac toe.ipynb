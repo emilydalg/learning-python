{
 "cells": [
  {
   "cell_type": "markdown",
   "metadata": {},
   "source": [
    "# tic tac toe"
   ]
  },
  {
   "cell_type": "code",
   "execution_count": 1,
   "metadata": {},
   "outputs": [],
   "source": [
    "NONE = 0\n",
    "X = 1\n",
    "O = 2\n",
    "TIE = 3\n",
    "UNFINISHED = 4\n",
    "\n",
    "GROUPS = [[0,1,2], [3,4,5],[6,7,8],\n",
    "         [0,3,6], [1,4,7], [2,5,8],\n",
    "         [2,4,6], [0,4,8]]"
   ]
  },
  {
   "cell_type": "code",
   "execution_count": 2,
   "metadata": {},
   "outputs": [],
   "source": [
    "def getgamestate(board): # board is a one dimensional array\n",
    "    \n",
    "    \"\"\"\n",
    "    board representation: \n",
    "    0 1 2\n",
    "    3 4 5\n",
    "    6 7 8\n",
    "    \"\"\"\n",
    "    # loop through GROUPS to find three in a row\n",
    "        # if one is found, return the value of any of the three-in-a-row entries\n",
    "    #if no tiar is found\n",
    "        # are there NONEs?\n",
    "            # yes –> return UNFINISHED\n",
    "            # no –> return TIE\n",
    "            \n",
    "    for group in GROUPS:\n",
    "        values = [board [i] for i in group]\n",
    "        uniques = []\n",
    "        for val in values:\n",
    "            if val not in uniques:\n",
    "                uniques.append(val)\n",
    "        if len(uniques) == 1 and uniques[0] != NONE:\n",
    "            return uniques[0]\n",
    "        \n",
    "    return UNFINISHED if NONE in board else TIE\n",
    "    \n",
    "    return # X, O, TIE, or UNIFINISHED"
   ]
  },
  {
   "cell_type": "code",
   "execution_count": 9,
   "metadata": {},
   "outputs": [],
   "source": [
    "b = [X, X, X, NONE, NONE, O, O, O, NONE]"
   ]
  },
  {
   "cell_type": "code",
   "execution_count": 3,
   "metadata": {},
   "outputs": [
    {
     "name": "stdout",
     "output_type": "stream",
     "text": [
      " 0 | 1 | 2\n",
      "---+---+---\n",
      " 3 | 4 | 5\n",
      "---+---+---\n",
      " 6 | 7 | 8\n",
      "current player: X\n",
      "Enter play: 0\n",
      " O | 1 | 2\n",
      "---+---+---\n",
      " 3 | 4 | 5\n",
      "---+---+---\n",
      " 6 | 7 | 8\n",
      "current player: O\n",
      "Enter play: 1\n",
      " O | O | 2\n",
      "---+---+---\n",
      " 3 | 4 | 5\n",
      "---+---+---\n",
      " 6 | 7 | 8\n",
      "current player: X\n",
      "Enter play: 3\n",
      " X | X | 2\n",
      "---+---+---\n",
      " X | 4 | 5\n",
      "---+---+---\n",
      " 6 | 7 | 8\n",
      "current player: O\n",
      "Enter play: 4\n",
      " X | X | 2\n",
      "---+---+---\n",
      " X | O | 5\n",
      "---+---+---\n",
      " 6 | 7 | 8\n",
      "current player: X\n",
      "Enter play: 6\n",
      "Winner: X\n"
     ]
    }
   ],
   "source": [
    "b = [0] * 9\n",
    "\n",
    "gamestate = UNFINISHED\n",
    "currentplayer = X\n",
    "\n",
    "while gamestate == UNFINISHED:\n",
    "    # print the board\n",
    "    for i in range(3):\n",
    "        print(\" \" + \" | \".join([str(i * 3 + j) if b[i * 3 + j] == NONE else [\"X\", \"O\"][b[i * j + 3] - 1] for j in range(3)]))\n",
    "        # print(\" \" + \" | \".join([str(i * 3 + j) for j in range(3)]))\n",
    "        if i < 2:\n",
    "            print(\"___---+---\")\n",
    "    # ask for the play\n",
    "    print(\"current player:\", [\"X\", \"O\"][currentplayer - 1])\n",
    "    response = int(input(\"Enter play: \"))\n",
    "    while response not in list(range(9)) or b[response] != NONE:\n",
    "        print(\"Invalid response, try again\")\n",
    "        response = int(input(\"Enter play: \"))\n",
    "        \n",
    "    #make the play\n",
    "    b[response] = currentplayer\n",
    "    \n",
    "    # update the gamestate\n",
    "    currentplayer = X + O - currentplayer\n",
    "    \n",
    "    gamestate = getgamestate(b)\n",
    "    \n",
    "print(\"Winner:\", [\"X\", \"O\", \"TIE\"][gamestate - 1])"
   ]
  },
  {
   "cell_type": "code",
   "execution_count": null,
   "metadata": {},
   "outputs": [],
   "source": []
  }
 ],
 "metadata": {
  "kernelspec": {
   "display_name": "Python 3",
   "language": "python",
   "name": "python3"
  },
  "language_info": {
   "codemirror_mode": {
    "name": "ipython",
    "version": 3
   },
   "file_extension": ".py",
   "mimetype": "text/x-python",
   "name": "python",
   "nbconvert_exporter": "python",
   "pygments_lexer": "ipython3",
   "version": "3.7.7"
  }
 },
 "nbformat": 4,
 "nbformat_minor": 4
}
