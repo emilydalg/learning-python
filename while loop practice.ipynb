{
 "cells": [
  {
   "cell_type": "markdown",
   "metadata": {},
   "source": [
    "# while loop fun"
   ]
  },
  {
   "cell_type": "code",
   "execution_count": 2,
   "metadata": {},
   "outputs": [
    {
     "name": "stdout",
     "output_type": "stream",
     "text": [
      "0\n",
      "1\n",
      "2\n"
     ]
    }
   ],
   "source": [
    "i = 0\n",
    "while i < 3:\n",
    "    print(i)\n",
    "    i += 1\n",
    "# an infinite loop can crash your computer\n",
    "# make sure loop condition changes inside the loop\n",
    "# will continue to execute the code until the while condition is false"
   ]
  },
  {
   "cell_type": "code",
   "execution_count": null,
   "metadata": {},
   "outputs": [],
   "source": [
    "# don't execute this, will create infinite loop\n",
    "while True:\n",
    "    pass # <– \"do nothing here\""
   ]
  },
  {
   "cell_type": "code",
   "execution_count": 5,
   "metadata": {},
   "outputs": [
    {
     "name": "stdout",
     "output_type": "stream",
     "text": [
      "HEllo. My namE is Emily, and this is a whilE loop.\n"
     ]
    }
   ],
   "source": [
    "string = \"Hello. My name is Emily, and this is a while loop.\"\n",
    "# replace each \"e\" with an \"E\" without loop\n",
    "# string.replace(\"e\", \"E\")\n",
    "# do the same with a while loop:\n",
    "\n",
    "while string.count(\"e\") > 0:\n",
    "    first_e = string.find(\"e\")\n",
    "    string = string[:first_e] + \"E\" + string[first_e + 1:]\n",
    "    \n",
    "print(string)\n",
    "\n",
    "# in this case probably faster just to use replace\n"
   ]
  },
  {
   "cell_type": "code",
   "execution_count": 7,
   "metadata": {
    "scrolled": true
   },
   "outputs": [
    {
     "name": "stdout",
     "output_type": "stream",
     "text": [
      "H1llo. My nam2 is Emily, and this is a whil3 loop.\n"
     ]
    }
   ],
   "source": [
    "#what you can't do with replace– replace the e with the order that they appear in this\n",
    "string = \"Hello. My name is Emily, and this is a while loop.\"\n",
    "\n",
    "\n",
    "i = 1\n",
    "while string.count(\"e\") > 0:\n",
    "    first_e = string.find(\"e\")\n",
    "    string = string[:first_e] + str(i) + string[first_e + 1:]\n",
    "    i += 1\n",
    "    \n",
    "print(string)"
   ]
  },
  {
   "cell_type": "code",
   "execution_count": null,
   "metadata": {},
   "outputs": [],
   "source": [
    "string = \"Hello. My name is Emily, and this is a while loop.\"\n",
    "\n",
    "newstring = string\n",
    "\n",
    "while string.count(\"e\") > 0:\n",
    "    first_e = string.find(\"e\")\n",
    "    first_enew = newstring.find(\"e\")\n",
    "    string = string[:first_enew] + \"_\" + string[first_enew + 1:]\n",
    "    newstring = newstring[:first_enew] + str(first_e) + newstring[first_enew + 1:]\n",
    "    \n",
    "print(string)"
   ]
  },
  {
   "cell_type": "markdown",
   "metadata": {},
   "source": [
    "## break statements"
   ]
  },
  {
   "cell_type": "code",
   "execution_count": null,
   "metadata": {},
   "outputs": [],
   "source": [
    "i = 0\n",
    "while i < 0:\n",
    "    print(i)\n",
    "    if i === 4:\n",
    "        break\n",
    "    i += 1\n",
    "# where you place the break matters"
   ]
  },
  {
   "cell_type": "markdown",
   "metadata": {},
   "source": [
    "## break-else"
   ]
  },
  {
   "cell_type": "code",
   "execution_count": 5,
   "metadata": {},
   "outputs": [
    {
     "name": "stdout",
     "output_type": "stream",
     "text": [
      "nope\n"
     ]
    }
   ],
   "source": [
    "# simple if-else\n",
    "\n",
    "i = 4\n",
    "if i < 3:\n",
    "    print(\"yep.\")\n",
    "else: \n",
    "    print(\"nope\")"
   ]
  },
  {
   "cell_type": "code",
   "execution_count": 3,
   "metadata": {},
   "outputs": [
    {
     "name": "stdout",
     "output_type": "stream",
     "text": [
      "0\n",
      "1\n",
      "2\n",
      "3\n",
      "4\n",
      "I always execute\n"
     ]
    }
   ],
   "source": [
    "i = 0\n",
    "while i < 10:\n",
    "    print(i)\n",
    "    i += 1\n",
    "    if i == 5:\n",
    "        break\n",
    "else: \n",
    "    print(\"the loop didn't break\")\n",
    "    \n",
    "print(\"I always execute\")\n",
    "\n",
    "# the else statement only executes when the break statement does not execute\n",
    "# or if the while loop does not execute"
   ]
  },
  {
   "cell_type": "markdown",
   "metadata": {},
   "source": [
    "## continue "
   ]
  },
  {
   "cell_type": "code",
   "execution_count": 1,
   "metadata": {},
   "outputs": [
    {
     "name": "stdout",
     "output_type": "stream",
     "text": [
      "0\n",
      "1\n",
      "2\n",
      "3\n",
      "5\n",
      "6\n",
      "7\n",
      "8\n",
      "9\n"
     ]
    }
   ],
   "source": [
    "i = -1\n",
    "while i < 9:\n",
    "    i += 1\n",
    "    if i == 4:\n",
    "        continue\n",
    "    print(i)"
   ]
  },
  {
   "cell_type": "code",
   "execution_count": 2,
   "metadata": {},
   "outputs": [
    {
     "name": "stdout",
     "output_type": "stream",
     "text": [
      "Peter says: hey guys\n",
      "Wait for Peter to say \"go to my website\"\n"
     ]
    }
   ],
   "source": [
    "petercase = input(\"Peter says: \")\n",
    "\n",
    "peter = petercase.lower()\n",
    "\n",
    "if peter == \"go to my website\":\n",
    "    print(\"Drink!\")\n",
    "else: \n",
    "    print(\"Wait for Peter to say \\\"go to my website\\\"\")"
   ]
  },
  {
   "cell_type": "code",
   "execution_count": null,
   "metadata": {},
   "outputs": [],
   "source": []
  }
 ],
 "metadata": {
  "kernelspec": {
   "display_name": "Python 3",
   "language": "python",
   "name": "python3"
  },
  "language_info": {
   "codemirror_mode": {
    "name": "ipython",
    "version": 3
   },
   "file_extension": ".py",
   "mimetype": "text/x-python",
   "name": "python",
   "nbconvert_exporter": "python",
   "pygments_lexer": "ipython3",
   "version": "3.7.7"
  }
 },
 "nbformat": 4,
 "nbformat_minor": 4
}
