{
 "cells": [
  {
   "cell_type": "markdown",
   "metadata": {},
   "source": [
    "# chapter 8 for loops"
   ]
  },
  {
   "cell_type": "markdown",
   "metadata": {},
   "source": [
    "### 1. "
   ]
  },
  {
   "cell_type": "code",
   "execution_count": 1,
   "metadata": {},
   "outputs": [
    {
     "name": "stdout",
     "output_type": "stream",
     "text": [
      "Enter a positive integer 3\n"
     ]
    }
   ],
   "source": [
    "n = input(\"Enter a positive integer \")\n",
    "\n"
   ]
  },
  {
   "cell_type": "markdown",
   "metadata": {},
   "source": [
    "### 2. "
   ]
  },
  {
   "cell_type": "code",
   "execution_count": 9,
   "metadata": {},
   "outputs": [
    {
     "name": "stdout",
     "output_type": "stream",
     "text": [
      "Enter a positive integer 123456\n",
      "1\n",
      "2\n",
      "3\n",
      "4\n",
      "6\n",
      "8\n",
      "12\n",
      "16\n",
      "24\n",
      "32\n",
      "48\n",
      "64\n",
      "96\n",
      "192\n",
      "643\n",
      "1286\n",
      "1929\n",
      "2572\n",
      "3858\n",
      "5144\n",
      "7716\n",
      "10288\n",
      "15432\n",
      "20576\n",
      "30864\n",
      "41152\n",
      "61728\n",
      "123456\n"
     ]
    }
   ],
   "source": [
    "n = int(input(\"Enter a positive integer \"))\n",
    "\n",
    "\n",
    "for divisor in range(1, n + 1):\n",
    "    if n % divisor == 0:\n",
    "        print(divisor)"
   ]
  },
  {
   "cell_type": "markdown",
   "metadata": {},
   "source": [
    "### 3."
   ]
  },
  {
   "cell_type": "code",
   "execution_count": 14,
   "metadata": {},
   "outputs": [
    {
     "name": "stdout",
     "output_type": "stream",
     "text": [
      "Enter a positive integer 7\n",
      "7 is a prime number\n"
     ]
    }
   ],
   "source": [
    "n = int(input(\"Enter a positive integer \"))\n",
    "\n",
    "factors = []\n",
    "\n",
    "for divisor in range(1, n + 1):\n",
    "    if n % divisor == 0:\n",
    "        factors.append(divisor)\n",
    "        \n",
    "if len(factors) > 2:\n",
    "    print(f\"{n} is not a prime number\")\n",
    "else:\n",
    "    print(f\"{n} is a prime number\")"
   ]
  },
  {
   "cell_type": "markdown",
   "metadata": {},
   "source": [
    "### 4. "
   ]
  },
  {
   "cell_type": "code",
   "execution_count": 24,
   "metadata": {},
   "outputs": [
    {
     "name": "stdout",
     "output_type": "stream",
     "text": [
      "[1, 2, 3, 4, 5]\n"
     ]
    }
   ],
   "source": [
    "a = [1, 1, 2, 2, 3, 3, 4, 4, 5, 5]\n",
    "b = []\n",
    "\n",
    "for i in range (0, len(a)):\n",
    "    if a[i] not in b:\n",
    "        b.append(a[i])\n",
    "        \n",
    "print(b)"
   ]
  },
  {
   "cell_type": "markdown",
   "metadata": {},
   "source": [
    "### 5. "
   ]
  },
  {
   "cell_type": "code",
   "execution_count": 31,
   "metadata": {},
   "outputs": [
    {
     "name": "stdout",
     "output_type": "stream",
     "text": [
      "maximum: 5\n",
      "minimum: 1\n",
      "sum: 15.600000000000001\n",
      "product: 145.20000000000005\n"
     ]
    }
   ],
   "source": [
    "a = [1, 2.2, 3, 4.4, 5]\n",
    "\n",
    "maxi = a[0]\n",
    "mini = a[0]\n",
    "\n",
    "for i in range (0, len(a)):\n",
    "    for c in range (0, len(a)):\n",
    "        if a[i] > a[c] and a[i] >= maxi:\n",
    "            maxi = a[i]\n",
    "        elif a[i] < a[c] and a[i] <= mini:\n",
    "            mini = a[i]\n",
    "            \n",
    "print(f\"maximum: {maxi}\")\n",
    "print(f\"minimum: {mini}\")\n",
    "\n",
    "total = 0 \n",
    "product = 1\n",
    "for i in range (0, len(a)):\n",
    "    total += a[i]\n",
    "    product*= a[i]\n",
    "    \n",
    "print(f\"sum: {total}\")\n",
    "print(f\"product: {product}\")"
   ]
  },
  {
   "cell_type": "markdown",
   "metadata": {},
   "source": [
    "### 6. "
   ]
  },
  {
   "cell_type": "code",
   "execution_count": 41,
   "metadata": {},
   "outputs": [
    {
     "name": "stdout",
     "output_type": "stream",
     "text": [
      "Enter a word: hello\n",
      "['h', 'e', 'l', 'l', 'o']\n"
     ]
    },
    {
     "ename": "IndexError",
     "evalue": "list index out of range",
     "output_type": "error",
     "traceback": [
      "\u001b[0;31m---------------------------------------------------------------------------\u001b[0m",
      "\u001b[0;31mIndexError\u001b[0m                                Traceback (most recent call last)",
      "\u001b[0;32m<ipython-input-41-f8361b2696b4>\u001b[0m in \u001b[0;36m<module>\u001b[0;34m\u001b[0m\n\u001b[1;32m      6\u001b[0m \u001b[0;34m\u001b[0m\u001b[0m\n\u001b[1;32m      7\u001b[0m \u001b[0;32mfor\u001b[0m \u001b[0mi\u001b[0m \u001b[0;32min\u001b[0m \u001b[0;34m(\u001b[0m\u001b[0;36m0\u001b[0m\u001b[0;34m,\u001b[0m \u001b[0mlen\u001b[0m\u001b[0;34m(\u001b[0m\u001b[0mp\u001b[0m\u001b[0;34m)\u001b[0m\u001b[0;34m)\u001b[0m\u001b[0;34m:\u001b[0m\u001b[0;34m\u001b[0m\u001b[0;34m\u001b[0m\u001b[0m\n\u001b[0;32m----> 8\u001b[0;31m     \u001b[0;32mif\u001b[0m \u001b[0mp\u001b[0m\u001b[0;34m[\u001b[0m\u001b[0mi\u001b[0m\u001b[0;34m]\u001b[0m \u001b[0;34m!=\u001b[0m \u001b[0mp\u001b[0m\u001b[0;34m[\u001b[0m\u001b[0mlen\u001b[0m\u001b[0;34m(\u001b[0m\u001b[0mp\u001b[0m\u001b[0;34m)\u001b[0m\u001b[0;34m-\u001b[0m \u001b[0;36m1\u001b[0m \u001b[0;34m-\u001b[0m \u001b[0mi\u001b[0m\u001b[0;34m]\u001b[0m\u001b[0;34m:\u001b[0m\u001b[0;34m\u001b[0m\u001b[0;34m\u001b[0m\u001b[0m\n\u001b[0m\u001b[1;32m      9\u001b[0m         \u001b[0mpalindrome\u001b[0m \u001b[0;34m=\u001b[0m \u001b[0;32mFalse\u001b[0m\u001b[0;34m\u001b[0m\u001b[0;34m\u001b[0m\u001b[0m\n\u001b[1;32m     10\u001b[0m \u001b[0;34m\u001b[0m\u001b[0m\n",
      "\u001b[0;31mIndexError\u001b[0m: list index out of range"
     ]
    }
   ],
   "source": [
    "s = input(\"Enter a word: \")\n",
    "p = list(s)\n",
    "\n",
    "print(p)\n",
    "palindrome = True\n",
    "\n",
    "for i in (0, len(p)):\n",
    "    if p[i] != p[len(p)- 1 - i]:\n",
    "        palindrome = False\n",
    "\n",
    "if palindrome:\n",
    "    print(f\"{s} is a palindrome\")\n",
    "else:\n",
    "    print(f\"{s} is not a palindrome\")"
   ]
  },
  {
   "cell_type": "code",
   "execution_count": null,
   "metadata": {},
   "outputs": [],
   "source": []
  }
 ],
 "metadata": {
  "kernelspec": {
   "display_name": "Python 3",
   "language": "python",
   "name": "python3"
  },
  "language_info": {
   "codemirror_mode": {
    "name": "ipython",
    "version": 3
   },
   "file_extension": ".py",
   "mimetype": "text/x-python",
   "name": "python",
   "nbconvert_exporter": "python",
   "pygments_lexer": "ipython3",
   "version": "3.7.7"
  }
 },
 "nbformat": 4,
 "nbformat_minor": 4
}
