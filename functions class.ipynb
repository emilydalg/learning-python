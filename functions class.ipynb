{
 "cells": [
  {
   "cell_type": "markdown",
   "metadata": {},
   "source": [
    "# functions"
   ]
  },
  {
   "cell_type": "code",
   "execution_count": 2,
   "metadata": {},
   "outputs": [],
   "source": [
    "def myfirstfunction():\n",
    "    # here is where you do stuff \n",
    "    return 123\n"
   ]
  },
  {
   "cell_type": "code",
   "execution_count": 3,
   "metadata": {},
   "outputs": [
    {
     "data": {
      "text/plain": [
       "123"
      ]
     },
     "execution_count": 3,
     "metadata": {},
     "output_type": "execute_result"
    }
   ],
   "source": [
    "myfirstfunction()"
   ]
  },
  {
   "cell_type": "code",
   "execution_count": 8,
   "metadata": {},
   "outputs": [],
   "source": [
    "def mysum(l):\n",
    "    s = 0\n",
    "    for el in l:\n",
    "        s+= el\n",
    "    return s, s/abs(s)"
   ]
  },
  {
   "cell_type": "code",
   "execution_count": 9,
   "metadata": {},
   "outputs": [
    {
     "data": {
      "text/plain": [
       "(21, 1.0)"
      ]
     },
     "execution_count": 9,
     "metadata": {},
     "output_type": "execute_result"
    }
   ],
   "source": [
    "mysum([1,2,3,4,5,6])"
   ]
  },
  {
   "cell_type": "code",
   "execution_count": 11,
   "metadata": {},
   "outputs": [],
   "source": [
    "def mysecondfunction(a, b, c, d=0, e=1):\n",
    "    return f\"a={a}, b={b}, c={c}, d={d}, e={e}\""
   ]
  },
  {
   "cell_type": "code",
   "execution_count": 14,
   "metadata": {},
   "outputs": [
    {
     "data": {
      "text/plain": [
       "'a=1, b=2, c=3, d=5, e=4'"
      ]
     },
     "execution_count": 14,
     "metadata": {},
     "output_type": "execute_result"
    }
   ],
   "source": [
    "mysecondfunction(1, 2, 3, e=4, d=5)"
   ]
  },
  {
   "cell_type": "code",
   "execution_count": 15,
   "metadata": {},
   "outputs": [],
   "source": [
    "def functionthree(*pargs, **kwargs):\n",
    "    print(pargs)\n",
    "    print(kwargs)"
   ]
  },
  {
   "cell_type": "code",
   "execution_count": 16,
   "metadata": {},
   "outputs": [
    {
     "name": "stdout",
     "output_type": "stream",
     "text": [
      "(1, 2, 3)\n",
      "{'a': 6, 'b': 7}\n"
     ]
    }
   ],
   "source": [
    "functionthree(1, 2, 3, a=6, b=7)"
   ]
  },
  {
   "cell_type": "code",
   "execution_count": 19,
   "metadata": {},
   "outputs": [],
   "source": [
    "def factorial(n):\n",
    "    if n < 2:\n",
    "        return 1\n",
    "    # need the base case so it does not call the function over and over again\n",
    "    else:\n",
    "        return n*factorial(n-1)"
   ]
  },
  {
   "cell_type": "code",
   "execution_count": 18,
   "metadata": {},
   "outputs": [
    {
     "data": {
      "text/plain": [
       "24"
      ]
     },
     "execution_count": 18,
     "metadata": {},
     "output_type": "execute_result"
    }
   ],
   "source": [
    "factorial(4)"
   ]
  },
  {
   "cell_type": "code",
   "execution_count": 7,
   "metadata": {},
   "outputs": [],
   "source": [
    "def mysort(l):\n",
    "    if len(l) == 1:\n",
    "        return l\n",
    "    \n",
    "    if len(l) == 2:\n",
    "        if l[0] < l[1]:\n",
    "            return l[::-1]\n",
    "        return l\n",
    "    \n",
    "    d = int(len(l)/2)\n",
    "    a = mysort(l[:d])\n",
    "    b = mysort(l[d:])\n",
    "    \n",
    "    c = []\n",
    "    \n",
    "    while len(a) > 0 or len(b) > 0:\n",
    "        if len(a) == 0:\n",
    "            c.extend(b)\n",
    "            break\n",
    "        if len(b) == 0:\n",
    "            c.extend(a)\n",
    "            break\n",
    "        if a[0] > b[0]:\n",
    "            c.append(a[0])\n",
    "            del a[0]\n",
    "        else:\n",
    "            c.append(b[0])\n",
    "            del b[0]\n",
    "    return c"
   ]
  },
  {
   "cell_type": "code",
   "execution_count": 8,
   "metadata": {},
   "outputs": [
    {
     "data": {
      "text/plain": [
       "[8, 6, 5, 4, 3, 2]"
      ]
     },
     "execution_count": 8,
     "metadata": {},
     "output_type": "execute_result"
    }
   ],
   "source": [
    "mysort([5, 2, 3, 6, 8, 4])"
   ]
  },
  {
   "cell_type": "code",
   "execution_count": 9,
   "metadata": {},
   "outputs": [],
   "source": [
    "EMPTY = 0\n",
    "X = 1\n",
    "O = 2"
   ]
  },
  {
   "cell_type": "code",
   "execution_count": 14,
   "metadata": {},
   "outputs": [],
   "source": [
    "def expand(board):\n",
    "    \"\"\"given a board, return the possible next move boards\"\"\"\n",
    "    currentplayer = X if board.count(X) == board.count(0) else 0\n",
    "    children = []\n",
    "    for i in range(9):\n",
    "        if board[i] == EMPTY:\n",
    "            b = board.copy\n",
    "            b[i] = currentplayer\n",
    "            children.append(b)\n",
    "    return children"
   ]
  },
  {
   "cell_type": "code",
   "execution_count": 16,
   "metadata": {},
   "outputs": [],
   "source": [
    "def search(board):\n",
    "    if board.count(EMPTY) == 0:\n",
    "        print(board)\n",
    "    else:\n",
    "        for child in expand(board):\n",
    "            search(board)"
   ]
  },
  {
   "cell_type": "code",
   "execution_count": 15,
   "metadata": {},
   "outputs": [
    {
     "ename": "TypeError",
     "evalue": "'builtin_function_or_method' object does not support item assignment",
     "output_type": "error",
     "traceback": [
      "\u001b[0;31m---------------------------------------------------------------------------\u001b[0m",
      "\u001b[0;31mTypeError\u001b[0m                                 Traceback (most recent call last)",
      "\u001b[0;32m<ipython-input-15-8e48eca32a07>\u001b[0m in \u001b[0;36m<module>\u001b[0;34m\u001b[0m\n\u001b[0;32m----> 1\u001b[0;31m \u001b[0mexpand\u001b[0m\u001b[0;34m(\u001b[0m\u001b[0;34m[\u001b[0m\u001b[0mEMPTY\u001b[0m\u001b[0;34m]\u001b[0m \u001b[0;34m*\u001b[0m \u001b[0;36m9\u001b[0m\u001b[0;34m)\u001b[0m\u001b[0;34m\u001b[0m\u001b[0;34m\u001b[0m\u001b[0m\n\u001b[0m\u001b[1;32m      2\u001b[0m \u001b[0mboard\u001b[0m\u001b[0;34m[\u001b[0m\u001b[0;36m0\u001b[0m\u001b[0;34m]\u001b[0m \u001b[0;34m=\u001b[0m \u001b[0mX\u001b[0m\u001b[0;34m\u001b[0m\u001b[0;34m\u001b[0m\u001b[0m\n\u001b[1;32m      3\u001b[0m \u001b[0mexpand\u001b[0m\u001b[0;34m(\u001b[0m\u001b[0mboard\u001b[0m\u001b[0;34m)\u001b[0m\u001b[0;34m\u001b[0m\u001b[0;34m\u001b[0m\u001b[0m\n",
      "\u001b[0;32m<ipython-input-14-63fc259bb98c>\u001b[0m in \u001b[0;36mexpand\u001b[0;34m(board)\u001b[0m\n\u001b[1;32m      6\u001b[0m         \u001b[0;32mif\u001b[0m \u001b[0mboard\u001b[0m\u001b[0;34m[\u001b[0m\u001b[0mi\u001b[0m\u001b[0;34m]\u001b[0m \u001b[0;34m==\u001b[0m \u001b[0mEMPTY\u001b[0m\u001b[0;34m:\u001b[0m\u001b[0;34m\u001b[0m\u001b[0;34m\u001b[0m\u001b[0m\n\u001b[1;32m      7\u001b[0m             \u001b[0mb\u001b[0m \u001b[0;34m=\u001b[0m \u001b[0mboard\u001b[0m\u001b[0;34m.\u001b[0m\u001b[0mcopy\u001b[0m\u001b[0;34m\u001b[0m\u001b[0;34m\u001b[0m\u001b[0m\n\u001b[0;32m----> 8\u001b[0;31m             \u001b[0mb\u001b[0m\u001b[0;34m[\u001b[0m\u001b[0mi\u001b[0m\u001b[0;34m]\u001b[0m \u001b[0;34m=\u001b[0m \u001b[0mcurrentplayer\u001b[0m\u001b[0;34m\u001b[0m\u001b[0;34m\u001b[0m\u001b[0m\n\u001b[0m\u001b[1;32m      9\u001b[0m             \u001b[0mchildren\u001b[0m\u001b[0;34m.\u001b[0m\u001b[0mappend\u001b[0m\u001b[0;34m(\u001b[0m\u001b[0mb\u001b[0m\u001b[0;34m)\u001b[0m\u001b[0;34m\u001b[0m\u001b[0;34m\u001b[0m\u001b[0m\n\u001b[1;32m     10\u001b[0m     \u001b[0;32mreturn\u001b[0m \u001b[0mchildren\u001b[0m\u001b[0;34m\u001b[0m\u001b[0;34m\u001b[0m\u001b[0m\n",
      "\u001b[0;31mTypeError\u001b[0m: 'builtin_function_or_method' object does not support item assignment"
     ]
    }
   ],
   "source": [
    "expand([EMPTY] * 9)\n",
    "board[0] = X\n",
    "expand(board)"
   ]
  },
  {
   "cell_type": "code",
   "execution_count": 1,
   "metadata": {},
   "outputs": [],
   "source": [
    "def fib(n):\n",
    "    if n < 1:\n",
    "        return 1\n",
    "    return fib(n - 1) + fib(n - 2)"
   ]
  },
  {
   "cell_type": "code",
   "execution_count": 2,
   "metadata": {},
   "outputs": [
    {
     "name": "stdout",
     "output_type": "stream",
     "text": [
      "fib(0) = 1\n",
      "fib(1) = 2\n",
      "fib(2) = 3\n",
      "fib(3) = 5\n",
      "fib(4) = 8\n",
      "fib(5) = 13\n",
      "fib(6) = 21\n",
      "fib(7) = 34\n",
      "fib(8) = 55\n",
      "fib(9) = 89\n",
      "fib(10) = 144\n",
      "fib(11) = 233\n",
      "fib(12) = 377\n",
      "fib(13) = 610\n",
      "fib(14) = 987\n"
     ]
    }
   ],
   "source": [
    "cache = []\n",
    "\n",
    "def fib(n):\n",
    "    if len(cache) <= n:\n",
    "        while len(cache) <= n:\n",
    "            cache.append(-1)\n",
    "    if cache[n] == -1\n",
    "        if n < 2:\n",
    "            cache[n] = 1\n",
    "        else:\n",
    "            cache[n] = fib(n - 1) + fib(n - 2)\n",
    "    return cache[n] "
   ]
  },
  {
   "cell_type": "code",
   "execution_count": 3,
   "metadata": {},
   "outputs": [
    {
     "name": "stdout",
     "output_type": "stream",
     "text": [
      "fib(0) = 1\n",
      "fib(1) = 2\n",
      "fib(2) = 3\n",
      "fib(3) = 5\n",
      "fib(4) = 8\n",
      "fib(5) = 13\n",
      "fib(6) = 21\n",
      "fib(7) = 34\n",
      "fib(8) = 55\n",
      "fib(9) = 89\n",
      "fib(10) = 144\n",
      "fib(11) = 233\n",
      "fib(12) = 377\n",
      "fib(13) = 610\n",
      "fib(14) = 987\n"
     ]
    }
   ],
   "source": [
    "for i in range(15):\n",
    "    print(f\"fib({i}) =\", fib(i))"
   ]
  },
  {
   "cell_type": "code",
   "execution_count": 4,
   "metadata": {},
   "outputs": [],
   "source": [
    "from functools import lru_cache\n",
    "\n",
    "@lru_cache(maxsize = None)\n",
    "\n",
    "def trib(n):\n",
    "    if n < 3:\n",
    "        return 1\n",
    "    return trib(n-1) + trib(n-2) + trib(n-3)"
   ]
  },
  {
   "cell_type": "code",
   "execution_count": 5,
   "metadata": {},
   "outputs": [
    {
     "data": {
      "text/plain": [
       "9"
      ]
     },
     "execution_count": 5,
     "metadata": {},
     "output_type": "execute_result"
    }
   ],
   "source": [
    "trib(5)"
   ]
  },
  {
   "cell_type": "code",
   "execution_count": 29,
   "metadata": {},
   "outputs": [],
   "source": [
    "class Bike:\n",
    "    numWheels = 2 # class variable\n",
    "    \n",
    "    def __init__(self, color, brand):\n",
    "        self.color = color # instance variable\n",
    "        self.brand = brand\n",
    "        self.miles = 0\n",
    "        \n",
    "    def ride(self, mi):\n",
    "        print(\"you rode\", mi, \"miles\")\n",
    "        self.miles += mi\n",
    "        \n",
    "    def __str__(self):\n",
    "        return f\"<Bike> color: {self.color}, miles: {self.miles}, brand: {self.brand}\""
   ]
  },
  {
   "cell_type": "code",
   "execution_count": 30,
   "metadata": {},
   "outputs": [],
   "source": [
    "myBike = Bike(\"red\", \"Peloton\")"
   ]
  },
  {
   "cell_type": "code",
   "execution_count": 31,
   "metadata": {},
   "outputs": [
    {
     "name": "stdout",
     "output_type": "stream",
     "text": [
      "red\n",
      "Peloton\n"
     ]
    }
   ],
   "source": [
    "print(myBike.color)\n",
    "print(myBike.brand)"
   ]
  },
  {
   "cell_type": "code",
   "execution_count": 22,
   "metadata": {},
   "outputs": [
    {
     "data": {
      "text/plain": [
       "0"
      ]
     },
     "execution_count": 22,
     "metadata": {},
     "output_type": "execute_result"
    }
   ],
   "source": [
    "myBike.miles"
   ]
  },
  {
   "cell_type": "code",
   "execution_count": 23,
   "metadata": {},
   "outputs": [
    {
     "name": "stdout",
     "output_type": "stream",
     "text": [
      "you rode 10 miles\n"
     ]
    }
   ],
   "source": [
    "myBike.ride(10)"
   ]
  },
  {
   "cell_type": "code",
   "execution_count": 24,
   "metadata": {},
   "outputs": [
    {
     "data": {
      "text/plain": [
       "10"
      ]
     },
     "execution_count": 24,
     "metadata": {},
     "output_type": "execute_result"
    }
   ],
   "source": [
    "myBike.miles"
   ]
  },
  {
   "cell_type": "code",
   "execution_count": 32,
   "metadata": {},
   "outputs": [
    {
     "data": {
      "text/plain": [
       "'<Bike> color: red, miles: 0, brand: Peloton'"
      ]
     },
     "execution_count": 32,
     "metadata": {},
     "output_type": "execute_result"
    }
   ],
   "source": [
    "str(myBike)"
   ]
  },
  {
   "cell_type": "code",
   "execution_count": 33,
   "metadata": {},
   "outputs": [],
   "source": [
    "class LinkedListNode: \n",
    "    def __init__(self, item, nextNode=None):\n",
    "        self.item = item\n",
    "        self.nextNode = nextNode"
   ]
  },
  {
   "cell_type": "code",
   "execution_count": 38,
   "metadata": {},
   "outputs": [],
   "source": [
    "class LinkedList:\n",
    "    \n",
    "    def __init__(self):\n",
    "        pass\n",
    "    \n",
    "    def isEmpty(self):\n",
    "        return self.head is None\n",
    "    \n",
    "    def getHead(self):\n",
    "        return self.head\n",
    "    \n",
    "    def getTail(self):\n",
    "        return self.tail\n",
    "    \n",
    "    def addToHead(self, item):\n",
    "        newHead = LinkedListNode(item, self.head)\n",
    "        self.head = newNode\n",
    "        if self.tail is None:\n",
    "            self.tail = newNode\n",
    "            \n",
    "    def addToTail(self, item):\n",
    "        newNode = LinkedListNode(item)\n",
    "        if self.tail is None:\n",
    "            self.head = newNode\n",
    "        else:\n",
    "            self.tail.nextNode = newNode\n",
    "        self.tail = NewNode\n",
    "        \n",
    "    def RemoveHead(self):\n",
    "        currentHead = self.head\n",
    "        self.head = self.head.next\n",
    "        if self.head is None:\n",
    "            self.tail = None\n",
    "        return currentHead.item\n",
    "    \n",
    "    def __str__(self):\n",
    "        l = []\n",
    "        current = self.head\n",
    "        while current is not None:\n",
    "            l.append(current.item)\n",
    "            current = current.nextNode\n",
    "            \n",
    "        return str(l)"
   ]
  },
  {
   "cell_type": "code",
   "execution_count": 39,
   "metadata": {},
   "outputs": [
    {
     "ename": "AttributeError",
     "evalue": "'LinkedList' object has no attribute 'head'",
     "output_type": "error",
     "traceback": [
      "\u001b[0;31m---------------------------------------------------------------------------\u001b[0m",
      "\u001b[0;31mAttributeError\u001b[0m                            Traceback (most recent call last)",
      "\u001b[0;32m<ipython-input-39-f95e924e61e3>\u001b[0m in \u001b[0;36m<module>\u001b[0;34m\u001b[0m\n\u001b[1;32m      1\u001b[0m \u001b[0mfruit\u001b[0m \u001b[0;34m=\u001b[0m \u001b[0mLinkedList\u001b[0m\u001b[0;34m(\u001b[0m\u001b[0;34m)\u001b[0m\u001b[0;34m\u001b[0m\u001b[0;34m\u001b[0m\u001b[0m\n\u001b[0;32m----> 2\u001b[0;31m \u001b[0mfruit\u001b[0m\u001b[0;34m.\u001b[0m\u001b[0maddToHead\u001b[0m\u001b[0;34m(\u001b[0m\u001b[0;34m\"apple\"\u001b[0m\u001b[0;34m)\u001b[0m\u001b[0;34m\u001b[0m\u001b[0;34m\u001b[0m\u001b[0m\n\u001b[0m\u001b[1;32m      3\u001b[0m \u001b[0mfruit\u001b[0m\u001b[0;34m.\u001b[0m\u001b[0maddToHead\u001b[0m\u001b[0;34m(\u001b[0m\u001b[0;34m\"banana\"\u001b[0m\u001b[0;34m)\u001b[0m\u001b[0;34m\u001b[0m\u001b[0;34m\u001b[0m\u001b[0m\n\u001b[1;32m      4\u001b[0m \u001b[0mfruit\u001b[0m\u001b[0;34m.\u001b[0m\u001b[0maddToHead\u001b[0m\u001b[0;34m(\u001b[0m\u001b[0;34m\"cherry\"\u001b[0m\u001b[0;34m)\u001b[0m\u001b[0;34m\u001b[0m\u001b[0;34m\u001b[0m\u001b[0m\n\u001b[1;32m      5\u001b[0m \u001b[0;34m\u001b[0m\u001b[0m\n",
      "\u001b[0;32m<ipython-input-38-94e0e4022d2e>\u001b[0m in \u001b[0;36maddToHead\u001b[0;34m(self, item)\u001b[0m\n\u001b[1;32m     14\u001b[0m \u001b[0;34m\u001b[0m\u001b[0m\n\u001b[1;32m     15\u001b[0m     \u001b[0;32mdef\u001b[0m \u001b[0maddToHead\u001b[0m\u001b[0;34m(\u001b[0m\u001b[0mself\u001b[0m\u001b[0;34m,\u001b[0m \u001b[0mitem\u001b[0m\u001b[0;34m)\u001b[0m\u001b[0;34m:\u001b[0m\u001b[0;34m\u001b[0m\u001b[0;34m\u001b[0m\u001b[0m\n\u001b[0;32m---> 16\u001b[0;31m         \u001b[0mnewHead\u001b[0m \u001b[0;34m=\u001b[0m \u001b[0mLinkedListNode\u001b[0m\u001b[0;34m(\u001b[0m\u001b[0mitem\u001b[0m\u001b[0;34m,\u001b[0m \u001b[0mself\u001b[0m\u001b[0;34m.\u001b[0m\u001b[0mhead\u001b[0m\u001b[0;34m)\u001b[0m\u001b[0;34m\u001b[0m\u001b[0;34m\u001b[0m\u001b[0m\n\u001b[0m\u001b[1;32m     17\u001b[0m         \u001b[0mself\u001b[0m\u001b[0;34m.\u001b[0m\u001b[0mhead\u001b[0m \u001b[0;34m=\u001b[0m \u001b[0mnewNode\u001b[0m\u001b[0;34m\u001b[0m\u001b[0;34m\u001b[0m\u001b[0m\n\u001b[1;32m     18\u001b[0m         \u001b[0;32mif\u001b[0m \u001b[0mself\u001b[0m\u001b[0;34m.\u001b[0m\u001b[0mtail\u001b[0m \u001b[0;32mis\u001b[0m \u001b[0;32mNone\u001b[0m\u001b[0;34m:\u001b[0m\u001b[0;34m\u001b[0m\u001b[0;34m\u001b[0m\u001b[0m\n",
      "\u001b[0;31mAttributeError\u001b[0m: 'LinkedList' object has no attribute 'head'"
     ]
    }
   ],
   "source": [
    "fruit = LinkedList()\n",
    "fruit.addToHead(\"apple\")\n",
    "fruit.addToHead(\"banana\")\n",
    "fruit.addToHead(\"cherry\")\n",
    "\n",
    "fruit.addToTail(\"drupe\")"
   ]
  },
  {
   "cell_type": "code",
   "execution_count": null,
   "metadata": {},
   "outputs": [],
   "source": [
    "print(fruit)"
   ]
  }
 ],
 "metadata": {
  "kernelspec": {
   "display_name": "Python 3",
   "language": "python",
   "name": "python3"
  },
  "language_info": {
   "codemirror_mode": {
    "name": "ipython",
    "version": 3
   },
   "file_extension": ".py",
   "mimetype": "text/x-python",
   "name": "python",
   "nbconvert_exporter": "python",
   "pygments_lexer": "ipython3",
   "version": "3.7.7"
  }
 },
 "nbformat": 4,
 "nbformat_minor": 4
}
