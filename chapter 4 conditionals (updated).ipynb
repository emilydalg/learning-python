{
 "cells": [
  {
   "cell_type": "markdown",
   "metadata": {},
   "source": [
    "# chapter 4: conditionals"
   ]
  },
  {
   "cell_type": "markdown",
   "metadata": {},
   "source": [
    "### 1. "
   ]
  },
  {
   "cell_type": "code",
   "execution_count": 1,
   "metadata": {},
   "outputs": [
    {
     "name": "stdout",
     "output_type": "stream",
     "text": [
      "foo\n"
     ]
    }
   ],
   "source": [
    "if \"ab\" in \"abcd\":\n",
    "  print(\"foo\")\n",
    "else:\n",
    "  print(\"bar\")"
   ]
  },
  {
   "cell_type": "code",
   "execution_count": 13,
   "metadata": {},
   "outputs": [
    {
     "name": "stdout",
     "output_type": "stream",
     "text": [
      "bar\n"
     ]
    }
   ],
   "source": [
    "runotherblock = True\n",
    "if \"w\" in \"abcd\":\n",
    "    print (\"foo\")\n",
    "    runotherblock = False\n",
    "\n",
    "if runotherblock:\n",
    "    print (\"bar\")"
   ]
  },
  {
   "cell_type": "markdown",
   "metadata": {},
   "source": [
    "### 2. "
   ]
  },
  {
   "cell_type": "code",
   "execution_count": 1,
   "metadata": {},
   "outputs": [
    {
     "name": "stdout",
     "output_type": "stream",
     "text": [
      "Enter a height in feet and inches \n",
      " feet: 6\n",
      "inches: 2\n",
      "you can't ride\n"
     ]
    }
   ],
   "source": [
    "feet = float(input(\"Enter a height in feet and inches \\n feet: \"))\n",
    "inches = float(input(\"inches: \"))\n",
    "height = feet*12 + inches\n",
    "\n",
    "if feet != int(feet) or inches != int(inches):\n",
    "    print(\"invalid input\")\n",
    "elif 45 < height < 60:\n",
    "    print(\"you can ride\")\n",
    "elif height < 45:\n",
    "    print(\"you can't ride\")\n",
    "elif height > 60:\n",
    "    print(\"you can't ride\")"
   ]
  },
  {
   "cell_type": "markdown",
   "metadata": {},
   "source": [
    "### 3. "
   ]
  },
  {
   "cell_type": "code",
   "execution_count": 8,
   "metadata": {},
   "outputs": [
    {
     "name": "stdout",
     "output_type": "stream",
     "text": [
      "enter a number: 0\n",
      "a = 0.0 is zero\n"
     ]
    }
   ],
   "source": [
    "a = float(input(\"enter a number: \"))\n",
    "print(f\"a = {a} is \" + (\"positive\" if a > 0 else \"negative\" if a < 0 else \"zero\"))"
   ]
  },
  {
   "cell_type": "markdown",
   "metadata": {},
   "source": [
    "### 4. "
   ]
  },
  {
   "cell_type": "code",
   "execution_count": 4,
   "metadata": {},
   "outputs": [
    {
     "name": "stdout",
     "output_type": "stream",
     "text": [
      "enter a positive integer: 1.2.3\n",
      "1.2.3 is not a number\n"
     ]
    }
   ],
   "source": [
    "a = input(\"enter a positive integer: \")\n",
    "dec = a.count(\".\")\n",
    "b = a.replace(\".\", \"\")\n",
    "\n",
    "if not b.isnumeric() or dec > 1:\n",
    "    print(f\"{a} is not a number\")\n",
    "elif b.isnumeric() and dec == 1:\n",
    "    print(f\"{a} is not an integer\")\n",
    "elif int(a) % 2 == 0:\n",
    "    print(f\"{b} is an even number\")\n",
    "else:\n",
    "    print(f\"{b} is an odd number\")"
   ]
  },
  {
   "cell_type": "markdown",
   "metadata": {},
   "source": [
    "### 5. "
   ]
  },
  {
   "cell_type": "code",
   "execution_count": 19,
   "metadata": {},
   "outputs": [
    {
     "name": "stdout",
     "output_type": "stream",
     "text": [
      "enter a score between 0 and 100: 60\n",
      "F\n"
     ]
    }
   ],
   "source": [
    "score = float(input(\"enter a score between 0 and 100: \"))\n",
    "if 100 > score > 90 or score == 100:\n",
    "    print(\"A\")\n",
    "elif 90 > score > 80 or score == 90:\n",
    "    print(\"B\")\n",
    "elif 80 > score > 70 or score == 80:\n",
    "    print(\"C\")\n",
    "elif 70 > score > 60 or score == 70:\n",
    "    print(\"D\")\n",
    "elif 60 > score > 0 or score == 60:\n",
    "    print(\"F\")\n",
    "else: \n",
    "    print(\"not a valid score\")"
   ]
  },
  {
   "cell_type": "markdown",
   "metadata": {},
   "source": [
    "### 6. "
   ]
  },
  {
   "cell_type": "code",
   "execution_count": null,
   "metadata": {},
   "outputs": [],
   "source": [
    "playeracase = input(\"Enter A's play: \")\n",
    "playerbcase = input(\"Enter B's play: \")\n",
    "\n",
    "playera = playeracase.lower()\n",
    "playerb = playerbcase.lower()\n",
    "\n",
    "if playera == playerb:\n",
    "    print(\"draw\")\n",
    "elif playera == \"rock\" and playerb == \"scissors\":\n",
    "    print(\"player A wins\")\n",
    "elif playera == \"scissors\" and playerb == \"paper\":\n",
    "    print(\"player A wins\")\n",
    "elif playera == \"paper\" and playerb == \"rock\":\n",
    "    print(\"Player A wins\")\n",
    "else: \n",
    "    print(\"Player B wins\")"
   ]
  },
  {
   "cell_type": "markdown",
   "metadata": {},
   "source": [
    "### 7."
   ]
  },
  {
   "cell_type": "code",
   "execution_count": 36,
   "metadata": {},
   "outputs": [
    {
     "name": "stdout",
     "output_type": "stream",
     "text": [
      "Enter weight in pounds: 140\n",
      "Enter height in inches: 65\n",
      "23.3\n",
      "A BMI of 23.3 is normal weight\n"
     ]
    }
   ],
   "source": [
    "weight = float(input(\"Enter weight in pounds: \"))\n",
    "height = float(input(\"Enter height in inches: \"))\n",
    "\n",
    "bmidec = (weight*703)/(height)**2\n",
    "bmi = round (bmidec, 1)\n",
    "print(bmi)\n",
    "if bmi < 18.5:\n",
    "    print(f\"A BMI of {bmi} is underweight\")\n",
    "elif 18.4 < bmi < 25:\n",
    "    print(f\"A BMI of {bmi} is normal weight\")\n",
    "elif 24.9 < bmi < 30:\n",
    "    print(f\"A BMI of {bmi} is overweight\")\n",
    "else:\n",
    "    print(f\"A BMI of {bmi} is obese\")"
   ]
  },
  {
   "cell_type": "markdown",
   "metadata": {},
   "source": [
    "### 8."
   ]
  },
  {
   "cell_type": "code",
   "execution_count": 42,
   "metadata": {},
   "outputs": [
    {
     "name": "stdout",
     "output_type": "stream",
     "text": [
      "Enter a year: 1600\n",
      "1600 is a leap year\n"
     ]
    }
   ],
   "source": [
    "year = int(input(\"Enter a year: \"))\n",
    "\n",
    "if year%400==0:\n",
    "    print(f\"{year} is a leap year\")\n",
    "elif year%4==0 and year%100!=0:\n",
    "    print(f\"{year} is a leap year\")\n",
    "else:\n",
    "    print(f\"{year} is not a leap year\")"
   ]
  },
  {
   "cell_type": "markdown",
   "metadata": {},
   "source": [
    "### 9."
   ]
  },
  {
   "cell_type": "code",
   "execution_count": 5,
   "metadata": {},
   "outputs": [
    {
     "name": "stdout",
     "output_type": "stream",
     "text": [
      "Enter the month: june\n",
      "Enter the day of the month: 10\n",
      "Enter the year: 2020\n",
      "Wednesday \n"
     ]
    }
   ],
   "source": [
    "month = (input(\"Enter the month: \")).capitalize()\n",
    "date = int(input(\"Enter the day of the month: \"))\n",
    "year = int(input(\"Enter the year: \"))\n",
    "\n",
    "if month == \"April\" or month == \"July\":\n",
    "    monthcode = 0\n",
    "elif month == \"January\" or month == \"October\":\n",
    "    monthcode = 1\n",
    "elif month == \"May\":\n",
    "    monthcode = 2\n",
    "elif month == \"August\":\n",
    "    monthcode = 3\n",
    "elif month == \"February\" or month == \"March\" or month == \"November\":\n",
    "    monthcode = 4\n",
    "elif month == \"June\":\n",
    "    monthcode = 5\n",
    "elif month == \"September\" or month == \"December\":\n",
    "    monthcode = 6\n",
    "else:\n",
    "    print(\"invalid month input\")\n",
    "    \n",
    "if year%400==0:\n",
    "    leapyear = \"yes\"\n",
    "elif year%4==0 and year%100!=0:\n",
    "    leapyear = \"yes\"\n",
    "else:\n",
    "    leapyear = \"no\"\n",
    "    \n",
    "if month == \"january\" or month == \"february\" and leapyear == \"yes\":\n",
    "    monthcode= monthcode-1\n",
    "else:\n",
    "    monthcode = monthcode\n",
    "\n",
    "if year < 1900:\n",
    "    cent = 2\n",
    "elif year > 1999:\n",
    "    cent = -1\n",
    "else:\n",
    "    cent = 0\n",
    "    \n",
    "lasttwo = year%100\n",
    "\n",
    "div = lasttwo//4\n",
    "\n",
    "daycode = (div + lasttwo + monthcode + date + cent)%7\n",
    "\n",
    "dayofweek = \"Saturday  Sunday    Monday    Tuesday   Wednesday Thursday  Friday    \"\n",
    "start = daycode*10\n",
    "end = start + 10\n",
    "print(dayofweek[start: end])"
   ]
  },
  {
   "cell_type": "code",
   "execution_count": null,
   "metadata": {},
   "outputs": [],
   "source": [
    "if daycode == 0:\n",
    "    print(f\"The day of the week on {month} {date}, {year} is Saturday\")\n",
    "if daycode == 1:\n",
    "    print(f\"The day of the week on {month} {date}, {year} is Sunday\")\n",
    "if daycode == 2:\n",
    "    print(f\"The day of the week on {month} {date}, {year} is Monday\")\n",
    "if daycode == 3:\n",
    "    print(f\"The day of the week on {month} {date}, {year} is Tuesday\")\n",
    "if daycode == 4:\n",
    "    print(f\"The day of the week on {month} {date}, {year} is Wednesday\")\n",
    "if daycode == 5:\n",
    "    print(f\"The day of the week on {month} {date}, {year} is Thursday\")\n",
    "if daycode == 6:\n",
    "    print(f\"The day of the week on {month} {date}, {year} is Friday\")"
   ]
  },
  {
   "cell_type": "markdown",
   "metadata": {},
   "source": [
    "### 10."
   ]
  },
  {
   "cell_type": "code",
   "execution_count": 72,
   "metadata": {},
   "outputs": [
    {
     "name": "stdout",
     "output_type": "stream",
     "text": [
      "Player's score? 42\n",
      "Player's score? 57\n",
      "Turn total? 23\n",
      "hold\n"
     ]
    }
   ],
   "source": [
    "i = int(input(\"Player's score? \"))\n",
    "j = int(input(\"Player's score? \"))\n",
    "k = int(input(\"Turn total? \"))\n",
    "\n",
    "if i+k > 100 or i+k == 100:\n",
    "    print(\"hold\")\n",
    "elif i>70 or j>70:\n",
    "    print(\"roll\")\n",
    "elif k<21+round((j-i)/8):\n",
    "    print(\"roll\")\n",
    "else:\n",
    "    print(\"hold\")"
   ]
  },
  {
   "cell_type": "markdown",
   "metadata": {},
   "source": [
    "### 11. "
   ]
  },
  {
   "cell_type": "code",
   "execution_count": 98,
   "metadata": {},
   "outputs": [
    {
     "name": "stdout",
     "output_type": "stream",
     "text": [
      "the file exists\n"
     ]
    }
   ],
   "source": [
    "import os\n",
    "if os.path.exists(\"seuss.txt\"):\n",
    "    print(\"the file exists\")\n",
    "else:\n",
    "    print(\"the file does not exist\")"
   ]
  },
  {
   "cell_type": "code",
   "execution_count": null,
   "metadata": {},
   "outputs": [],
   "source": []
  }
 ],
 "metadata": {
  "kernelspec": {
   "display_name": "Python 3",
   "language": "python",
   "name": "python3"
  },
  "language_info": {
   "codemirror_mode": {
    "name": "ipython",
    "version": 3
   },
   "file_extension": ".py",
   "mimetype": "text/x-python",
   "name": "python",
   "nbconvert_exporter": "python",
   "pygments_lexer": "ipython3",
   "version": "3.7.7"
  }
 },
 "nbformat": 4,
 "nbformat_minor": 4
}
