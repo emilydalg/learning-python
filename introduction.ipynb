{
 "cells": [
  {
   "cell_type": "markdown",
   "metadata": {},
   "source": [
    "#introduction"
   ]
  },
  {
   "cell_type": "markdown",
   "metadata": {},
   "source": [
    "# introduction"
   ]
  },
  {
   "cell_type": "code",
   "execution_count": 1,
   "metadata": {},
   "outputs": [
    {
     "name": "stdout",
     "output_type": "stream",
     "text": [
      "Hello World!\n"
     ]
    }
   ],
   "source": [
    "print(\"Hello World!\")"
   ]
  },
  {
   "cell_type": "code",
   "execution_count": 4,
   "metadata": {},
   "outputs": [
    {
     "name": "stdout",
     "output_type": "stream",
     "text": [
      "fish aren't really real\n",
      "just ask the nearest cladist\n",
      "goodbye scaly friends\n"
     ]
    }
   ],
   "source": [
    "print(\"fish aren't really real\")\n",
    "print(\"just ask the nearest cladist\")\n",
    "print(\"goodbye scaly friends\")"
   ]
  },
  {
   "cell_type": "code",
   "execution_count": 3,
   "metadata": {},
   "outputs": [],
   "source": [
    "#this is easier than Stata lol\n",
    "#I think I know what's going on at about 80%"
   ]
  },
  {
   "cell_type": "markdown",
   "metadata": {},
   "source": [
    "**We Real Cool**   \n",
    "*by Gwendolyn Brooks*\n",
    "\n",
    "[Read the poem here](https://www.poetryfoundation.org/poetrymagazine/poems/28112/we-real-cool)\n",
    "\n",
    "_____\n",
    "\n",
    "The Pool Players.   \n",
    "Seven at the Golden Shovel.   \n",
    "\n",
    "\n",
    "We real *cool.* We    \n",
    "Left *school.* We   \n",
    "\n",
    "Lurk **late**. We   \n",
    "~~Strike~~ **straight.** We    \n",
    "\n",
    "Sing `sin`. We   \n",
    "Thin `gin`. We    \n",
    "\n",
    "Jazz **_June._** We   \n",
    "Die **_soon._**"
   ]
  },
  {
   "cell_type": "code",
   "execution_count": null,
   "metadata": {},
   "outputs": [],
   "source": []
  }
 ],
 "metadata": {
  "kernelspec": {
   "display_name": "Python 3",
   "language": "python",
   "name": "python3"
  },
  "language_info": {
   "codemirror_mode": {
    "name": "ipython",
    "version": 3
   },
   "file_extension": ".py",
   "mimetype": "text/x-python",
   "name": "python",
   "nbconvert_exporter": "python",
   "pygments_lexer": "ipython3",
   "version": "3.7.7"
  }
 },
 "nbformat": 4,
 "nbformat_minor": 4
}
